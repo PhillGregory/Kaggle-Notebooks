{
 "cells": [
  {
   "cell_type": "code",
   "execution_count": 1,
   "id": "499b8c96",
   "metadata": {
    "_cell_guid": "b1076dfc-b9ad-4769-8c92-a6c4dae69d19",
    "_uuid": "8f2839f25d086af736a60e9eeb907d3b93b6e0e5",
    "execution": {
     "iopub.execute_input": "2024-04-16T19:58:10.964678Z",
     "iopub.status.busy": "2024-04-16T19:58:10.963981Z",
     "iopub.status.idle": "2024-04-16T19:58:10.979324Z",
     "shell.execute_reply": "2024-04-16T19:58:10.978304Z"
    },
    "papermill": {
     "duration": 0.028828,
     "end_time": "2024-04-16T19:58:10.981301",
     "exception": false,
     "start_time": "2024-04-16T19:58:10.952473",
     "status": "completed"
    },
    "tags": []
   },
   "outputs": [
    {
     "name": "stdout",
     "output_type": "stream",
     "text": [
      "/kaggle/input/obesity-levels/ObesityDataSet_raw_and_data_sinthetic.csv\n"
     ]
    }
   ],
   "source": [
    "# This Python 3 environment comes with many helpful analytics libraries installed\n",
    "# It is defined by the kaggle/python Docker image: https://github.com/kaggle/docker-python\n",
    "# For example, here's several helpful packages to load\n",
    "\n",
    "# Input data files are available in the read-only \"../input/\" directory\n",
    "# For example, running this (by clicking run or pressing Shift+Enter) will list all files under the input directory\n",
    "\n",
    "import os\n",
    "for dirname, _, filenames in os.walk('/kaggle/input'):\n",
    "    for filename in filenames:\n",
    "        print(os.path.join(dirname, filename))\n",
    "\n",
    "# You can write up to 20GB to the current directory (/kaggle/working/) that gets preserved as output when you create a version using \"Save & Run All\" \n",
    "# You can also write temporary files to /kaggle/temp/, but they won't be saved outside of the current session"
   ]
  },
  {
   "cell_type": "markdown",
   "id": "958bc5e4",
   "metadata": {
    "papermill": {
     "duration": 0.008355,
     "end_time": "2024-04-16T19:58:10.998325",
     "exception": false,
     "start_time": "2024-04-16T19:58:10.989970",
     "status": "completed"
    },
    "tags": []
   },
   "source": [
    "# Obesity Levels\n",
    "Prediction of Obesity Levels Based on Eating Habits and Physical Activity"
   ]
  },
  {
   "cell_type": "markdown",
   "id": "3f89152c",
   "metadata": {
    "papermill": {
     "duration": 0.007774,
     "end_time": "2024-04-16T19:58:11.014253",
     "exception": false,
     "start_time": "2024-04-16T19:58:11.006479",
     "status": "completed"
    },
    "tags": []
   },
   "source": [
    "**Dataset Information**\n",
    "\n",
    "This dataset include data for the estimation of obesity levels in individuals from the countries of Mexico, Peru and Colombia, based on their eating habits and physical condition. The data contains 17 attributes and 2111 records, the records are labeled with the class variable NObesity (Obesity Level), that allows classification of the data using the values of Insufficient Weight, Normal Weight, Overweight Level I, Overweight Level II, Obesity Type I, Obesity Type II and Obesity Type III. 77% of the data was generated synthetically using the Weka tool and the SMOTE filter, 23% of the data was collected directly from users through a web platform.\n",
    "\n",
    "* Gender: Feature, Categorical, \"Gender\"\n",
    "* Age : Feature, Continuous, \"Age\"\n",
    "* Height: Feature, Continuous\n",
    "* Weight: Feature Continuous\n",
    "* family_history_with_overweight: Feature, Binary, \" Has a family member suffered or suffers from overweight? \"\n",
    "\n",
    "* FAVC : Feature, Binary, \" Do you eat high caloric food frequently? \"\n",
    "* FCVC : Feature, Integer, \" Do you usually eat vegetables in your meals? \"\n",
    "* NCP : Feature, Continuous, \" How many main meals do you have daily? \"\n",
    "* CAEC : Feature, Categorical, \" Do you eat any food between meals? \"\n",
    "* SMOKE : Feature, Binary, \" Do you smoke? \"\n",
    "* CH2O: Feature, Continuous, \" How much water do you drink daily? \"\n",
    "* SCC: Feature, Binary, \" Do you monitor the calories you eat daily? \"\n",
    "* FAF: Feature, Continuous, \" How often do you have physical activity? \"\n",
    "* TUE : Feature, Integer, \" How much time do you use technological devices such as cell phone, videogames, television, computer and others? \"\n",
    "\n",
    "* CALC : Feature, Categorical, \" How often do you drink alcohol? \"\n",
    "* MTRANS : Feature, Categorical, \" Which transportation do you usually use? \"\n",
    "* NObeyesdad : Target, Categorical, \"Obesity level\""
   ]
  },
  {
   "cell_type": "markdown",
   "id": "9b809a33",
   "metadata": {
    "papermill": {
     "duration": 0.008553,
     "end_time": "2024-04-16T19:58:11.030790",
     "exception": false,
     "start_time": "2024-04-16T19:58:11.022237",
     "status": "completed"
    },
    "tags": []
   },
   "source": [
    "## Objectives\n",
    "1. Conduct a brief exploratory data analysis\n",
    "2. Perform any necessary pre-processing before implementing classification models\n",
    "3. Train and tune a variety of models and compare their relative performance using appropriate metrics\n",
    "4. Identify the most appropriate model in terms of both accuracy and explainability\n",
    "5. Consider further analysis or investigation"
   ]
  },
  {
   "cell_type": "markdown",
   "id": "9b14dc1e",
   "metadata": {
    "papermill": {
     "duration": 0.007891,
     "end_time": "2024-04-16T19:58:11.046920",
     "exception": false,
     "start_time": "2024-04-16T19:58:11.039029",
     "status": "completed"
    },
    "tags": []
   },
   "source": [
    "## Exploratory Data Analysis"
   ]
  },
  {
   "cell_type": "code",
   "execution_count": 2,
   "id": "25898ddd",
   "metadata": {
    "execution": {
     "iopub.execute_input": "2024-04-16T19:58:11.064900Z",
     "iopub.status.busy": "2024-04-16T19:58:11.064599Z",
     "iopub.status.idle": "2024-04-16T19:58:13.314466Z",
     "shell.execute_reply": "2024-04-16T19:58:13.313514Z"
    },
    "papermill": {
     "duration": 2.261582,
     "end_time": "2024-04-16T19:58:13.316822",
     "exception": false,
     "start_time": "2024-04-16T19:58:11.055240",
     "status": "completed"
    },
    "tags": []
   },
   "outputs": [],
   "source": [
    "# Imports\n",
    "import pandas as pd # For data manipulation\n",
    "import numpy as np # For numerical calculations\n",
    "\n",
    "import matplotlib.pyplot as plt # For plotting\n",
    "import seaborn as sns # For plotting"
   ]
  },
  {
   "cell_type": "code",
   "execution_count": 3,
   "id": "ae146db5",
   "metadata": {
    "execution": {
     "iopub.execute_input": "2024-04-16T19:58:13.336075Z",
     "iopub.status.busy": "2024-04-16T19:58:13.335408Z",
     "iopub.status.idle": "2024-04-16T19:58:13.380755Z",
     "shell.execute_reply": "2024-04-16T19:58:13.379062Z"
    },
    "papermill": {
     "duration": 0.057129,
     "end_time": "2024-04-16T19:58:13.382907",
     "exception": false,
     "start_time": "2024-04-16T19:58:13.325778",
     "status": "completed"
    },
    "tags": []
   },
   "outputs": [
    {
     "data": {
      "text/html": [
       "<div>\n",
       "<style scoped>\n",
       "    .dataframe tbody tr th:only-of-type {\n",
       "        vertical-align: middle;\n",
       "    }\n",
       "\n",
       "    .dataframe tbody tr th {\n",
       "        vertical-align: top;\n",
       "    }\n",
       "\n",
       "    .dataframe thead th {\n",
       "        text-align: right;\n",
       "    }\n",
       "</style>\n",
       "<table border=\"1\" class=\"dataframe\">\n",
       "  <thead>\n",
       "    <tr style=\"text-align: right;\">\n",
       "      <th></th>\n",
       "      <th>Age</th>\n",
       "      <th>Gender</th>\n",
       "      <th>Height</th>\n",
       "      <th>Weight</th>\n",
       "      <th>CALC</th>\n",
       "      <th>FAVC</th>\n",
       "      <th>FCVC</th>\n",
       "      <th>NCP</th>\n",
       "      <th>SCC</th>\n",
       "      <th>SMOKE</th>\n",
       "      <th>CH2O</th>\n",
       "      <th>family_history_with_overweight</th>\n",
       "      <th>FAF</th>\n",
       "      <th>TUE</th>\n",
       "      <th>CAEC</th>\n",
       "      <th>MTRANS</th>\n",
       "      <th>NObeyesdad</th>\n",
       "    </tr>\n",
       "  </thead>\n",
       "  <tbody>\n",
       "    <tr>\n",
       "      <th>0</th>\n",
       "      <td>21.0</td>\n",
       "      <td>Female</td>\n",
       "      <td>1.62</td>\n",
       "      <td>64.0</td>\n",
       "      <td>no</td>\n",
       "      <td>no</td>\n",
       "      <td>2.0</td>\n",
       "      <td>3.0</td>\n",
       "      <td>no</td>\n",
       "      <td>no</td>\n",
       "      <td>2.0</td>\n",
       "      <td>yes</td>\n",
       "      <td>0.0</td>\n",
       "      <td>1.0</td>\n",
       "      <td>Sometimes</td>\n",
       "      <td>Public_Transportation</td>\n",
       "      <td>Normal_Weight</td>\n",
       "    </tr>\n",
       "    <tr>\n",
       "      <th>1</th>\n",
       "      <td>21.0</td>\n",
       "      <td>Female</td>\n",
       "      <td>1.52</td>\n",
       "      <td>56.0</td>\n",
       "      <td>Sometimes</td>\n",
       "      <td>no</td>\n",
       "      <td>3.0</td>\n",
       "      <td>3.0</td>\n",
       "      <td>yes</td>\n",
       "      <td>yes</td>\n",
       "      <td>3.0</td>\n",
       "      <td>yes</td>\n",
       "      <td>3.0</td>\n",
       "      <td>0.0</td>\n",
       "      <td>Sometimes</td>\n",
       "      <td>Public_Transportation</td>\n",
       "      <td>Normal_Weight</td>\n",
       "    </tr>\n",
       "    <tr>\n",
       "      <th>2</th>\n",
       "      <td>23.0</td>\n",
       "      <td>Male</td>\n",
       "      <td>1.80</td>\n",
       "      <td>77.0</td>\n",
       "      <td>Frequently</td>\n",
       "      <td>no</td>\n",
       "      <td>2.0</td>\n",
       "      <td>3.0</td>\n",
       "      <td>no</td>\n",
       "      <td>no</td>\n",
       "      <td>2.0</td>\n",
       "      <td>yes</td>\n",
       "      <td>2.0</td>\n",
       "      <td>1.0</td>\n",
       "      <td>Sometimes</td>\n",
       "      <td>Public_Transportation</td>\n",
       "      <td>Normal_Weight</td>\n",
       "    </tr>\n",
       "    <tr>\n",
       "      <th>3</th>\n",
       "      <td>27.0</td>\n",
       "      <td>Male</td>\n",
       "      <td>1.80</td>\n",
       "      <td>87.0</td>\n",
       "      <td>Frequently</td>\n",
       "      <td>no</td>\n",
       "      <td>3.0</td>\n",
       "      <td>3.0</td>\n",
       "      <td>no</td>\n",
       "      <td>no</td>\n",
       "      <td>2.0</td>\n",
       "      <td>no</td>\n",
       "      <td>2.0</td>\n",
       "      <td>0.0</td>\n",
       "      <td>Sometimes</td>\n",
       "      <td>Walking</td>\n",
       "      <td>Overweight_Level_I</td>\n",
       "    </tr>\n",
       "    <tr>\n",
       "      <th>4</th>\n",
       "      <td>22.0</td>\n",
       "      <td>Male</td>\n",
       "      <td>1.78</td>\n",
       "      <td>89.8</td>\n",
       "      <td>Sometimes</td>\n",
       "      <td>no</td>\n",
       "      <td>2.0</td>\n",
       "      <td>1.0</td>\n",
       "      <td>no</td>\n",
       "      <td>no</td>\n",
       "      <td>2.0</td>\n",
       "      <td>no</td>\n",
       "      <td>0.0</td>\n",
       "      <td>0.0</td>\n",
       "      <td>Sometimes</td>\n",
       "      <td>Public_Transportation</td>\n",
       "      <td>Overweight_Level_II</td>\n",
       "    </tr>\n",
       "  </tbody>\n",
       "</table>\n",
       "</div>"
      ],
      "text/plain": [
       "    Age  Gender  Height  Weight        CALC FAVC  FCVC  NCP  SCC SMOKE  CH2O  \\\n",
       "0  21.0  Female    1.62    64.0          no   no   2.0  3.0   no    no   2.0   \n",
       "1  21.0  Female    1.52    56.0   Sometimes   no   3.0  3.0  yes   yes   3.0   \n",
       "2  23.0    Male    1.80    77.0  Frequently   no   2.0  3.0   no    no   2.0   \n",
       "3  27.0    Male    1.80    87.0  Frequently   no   3.0  3.0   no    no   2.0   \n",
       "4  22.0    Male    1.78    89.8   Sometimes   no   2.0  1.0   no    no   2.0   \n",
       "\n",
       "  family_history_with_overweight  FAF  TUE       CAEC                 MTRANS  \\\n",
       "0                            yes  0.0  1.0  Sometimes  Public_Transportation   \n",
       "1                            yes  3.0  0.0  Sometimes  Public_Transportation   \n",
       "2                            yes  2.0  1.0  Sometimes  Public_Transportation   \n",
       "3                             no  2.0  0.0  Sometimes                Walking   \n",
       "4                             no  0.0  0.0  Sometimes  Public_Transportation   \n",
       "\n",
       "            NObeyesdad  \n",
       "0        Normal_Weight  \n",
       "1        Normal_Weight  \n",
       "2        Normal_Weight  \n",
       "3   Overweight_Level_I  \n",
       "4  Overweight_Level_II  "
      ]
     },
     "execution_count": 3,
     "metadata": {},
     "output_type": "execute_result"
    }
   ],
   "source": [
    "# Import data\n",
    "address = '/kaggle/input/obesity-levels/ObesityDataSet_raw_and_data_sinthetic.csv'\n",
    "df = pd.read_csv(address)\n",
    "\n",
    "# Display the first 5 rows of the data\n",
    "df.head()"
   ]
  },
  {
   "cell_type": "code",
   "execution_count": 4,
   "id": "1fedfa14",
   "metadata": {
    "execution": {
     "iopub.execute_input": "2024-04-16T19:58:13.401862Z",
     "iopub.status.busy": "2024-04-16T19:58:13.401532Z",
     "iopub.status.idle": "2024-04-16T19:58:13.411342Z",
     "shell.execute_reply": "2024-04-16T19:58:13.410387Z"
    },
    "papermill": {
     "duration": 0.021636,
     "end_time": "2024-04-16T19:58:13.413361",
     "exception": false,
     "start_time": "2024-04-16T19:58:13.391725",
     "status": "completed"
    },
    "tags": []
   },
   "outputs": [
    {
     "data": {
      "text/plain": [
       "Age                               0\n",
       "Gender                            0\n",
       "Height                            0\n",
       "Weight                            0\n",
       "CALC                              0\n",
       "FAVC                              0\n",
       "FCVC                              0\n",
       "NCP                               0\n",
       "SCC                               0\n",
       "SMOKE                             0\n",
       "CH2O                              0\n",
       "family_history_with_overweight    0\n",
       "FAF                               0\n",
       "TUE                               0\n",
       "CAEC                              0\n",
       "MTRANS                            0\n",
       "NObeyesdad                        0\n",
       "dtype: int64"
      ]
     },
     "execution_count": 4,
     "metadata": {},
     "output_type": "execute_result"
    }
   ],
   "source": [
    "# Check for missing values\n",
    "df.isnull().sum()"
   ]
  },
  {
   "cell_type": "code",
   "execution_count": 5,
   "id": "d7b30ec5",
   "metadata": {
    "execution": {
     "iopub.execute_input": "2024-04-16T19:58:13.432008Z",
     "iopub.status.busy": "2024-04-16T19:58:13.431691Z",
     "iopub.status.idle": "2024-04-16T19:58:13.439169Z",
     "shell.execute_reply": "2024-04-16T19:58:13.438176Z"
    },
    "papermill": {
     "duration": 0.019547,
     "end_time": "2024-04-16T19:58:13.441526",
     "exception": false,
     "start_time": "2024-04-16T19:58:13.421979",
     "status": "completed"
    },
    "tags": []
   },
   "outputs": [
    {
     "data": {
      "text/plain": [
       "Age                               float64\n",
       "Gender                             object\n",
       "Height                            float64\n",
       "Weight                            float64\n",
       "CALC                               object\n",
       "FAVC                               object\n",
       "FCVC                              float64\n",
       "NCP                               float64\n",
       "SCC                                object\n",
       "SMOKE                              object\n",
       "CH2O                              float64\n",
       "family_history_with_overweight     object\n",
       "FAF                               float64\n",
       "TUE                               float64\n",
       "CAEC                               object\n",
       "MTRANS                             object\n",
       "NObeyesdad                         object\n",
       "dtype: object"
      ]
     },
     "execution_count": 5,
     "metadata": {},
     "output_type": "execute_result"
    }
   ],
   "source": [
    "# Check the data types\n",
    "df.dtypes"
   ]
  },
  {
   "cell_type": "code",
   "execution_count": 6,
   "id": "b450bf5c",
   "metadata": {
    "execution": {
     "iopub.execute_input": "2024-04-16T19:58:13.461824Z",
     "iopub.status.busy": "2024-04-16T19:58:13.461503Z",
     "iopub.status.idle": "2024-04-16T19:58:13.467868Z",
     "shell.execute_reply": "2024-04-16T19:58:13.466910Z"
    },
    "papermill": {
     "duration": 0.019131,
     "end_time": "2024-04-16T19:58:13.469873",
     "exception": false,
     "start_time": "2024-04-16T19:58:13.450742",
     "status": "completed"
    },
    "tags": []
   },
   "outputs": [
    {
     "data": {
      "text/plain": [
       "(2111, 17)"
      ]
     },
     "execution_count": 6,
     "metadata": {},
     "output_type": "execute_result"
    }
   ],
   "source": [
    "# Check the shape of the data\n",
    "df.shape"
   ]
  },
  {
   "cell_type": "code",
   "execution_count": 7,
   "id": "bf0cb23f",
   "metadata": {
    "execution": {
     "iopub.execute_input": "2024-04-16T19:58:13.489243Z",
     "iopub.status.busy": "2024-04-16T19:58:13.488909Z",
     "iopub.status.idle": "2024-04-16T19:58:13.518702Z",
     "shell.execute_reply": "2024-04-16T19:58:13.517806Z"
    },
    "papermill": {
     "duration": 0.041553,
     "end_time": "2024-04-16T19:58:13.520389",
     "exception": false,
     "start_time": "2024-04-16T19:58:13.478836",
     "status": "completed"
    },
    "tags": []
   },
   "outputs": [
    {
     "data": {
      "text/html": [
       "<div>\n",
       "<style scoped>\n",
       "    .dataframe tbody tr th:only-of-type {\n",
       "        vertical-align: middle;\n",
       "    }\n",
       "\n",
       "    .dataframe tbody tr th {\n",
       "        vertical-align: top;\n",
       "    }\n",
       "\n",
       "    .dataframe thead th {\n",
       "        text-align: right;\n",
       "    }\n",
       "</style>\n",
       "<table border=\"1\" class=\"dataframe\">\n",
       "  <thead>\n",
       "    <tr style=\"text-align: right;\">\n",
       "      <th></th>\n",
       "      <th>Age</th>\n",
       "      <th>Height</th>\n",
       "      <th>Weight</th>\n",
       "      <th>FCVC</th>\n",
       "      <th>NCP</th>\n",
       "      <th>CH2O</th>\n",
       "      <th>FAF</th>\n",
       "      <th>TUE</th>\n",
       "    </tr>\n",
       "  </thead>\n",
       "  <tbody>\n",
       "    <tr>\n",
       "      <th>count</th>\n",
       "      <td>2111.000000</td>\n",
       "      <td>2111.000000</td>\n",
       "      <td>2111.000000</td>\n",
       "      <td>2111.000000</td>\n",
       "      <td>2111.000000</td>\n",
       "      <td>2111.000000</td>\n",
       "      <td>2111.000000</td>\n",
       "      <td>2111.000000</td>\n",
       "    </tr>\n",
       "    <tr>\n",
       "      <th>mean</th>\n",
       "      <td>24.312600</td>\n",
       "      <td>1.701677</td>\n",
       "      <td>86.586058</td>\n",
       "      <td>2.419043</td>\n",
       "      <td>2.685628</td>\n",
       "      <td>2.008011</td>\n",
       "      <td>1.010298</td>\n",
       "      <td>0.657866</td>\n",
       "    </tr>\n",
       "    <tr>\n",
       "      <th>std</th>\n",
       "      <td>6.345968</td>\n",
       "      <td>0.093305</td>\n",
       "      <td>26.191172</td>\n",
       "      <td>0.533927</td>\n",
       "      <td>0.778039</td>\n",
       "      <td>0.612953</td>\n",
       "      <td>0.850592</td>\n",
       "      <td>0.608927</td>\n",
       "    </tr>\n",
       "    <tr>\n",
       "      <th>min</th>\n",
       "      <td>14.000000</td>\n",
       "      <td>1.450000</td>\n",
       "      <td>39.000000</td>\n",
       "      <td>1.000000</td>\n",
       "      <td>1.000000</td>\n",
       "      <td>1.000000</td>\n",
       "      <td>0.000000</td>\n",
       "      <td>0.000000</td>\n",
       "    </tr>\n",
       "    <tr>\n",
       "      <th>25%</th>\n",
       "      <td>19.947192</td>\n",
       "      <td>1.630000</td>\n",
       "      <td>65.473343</td>\n",
       "      <td>2.000000</td>\n",
       "      <td>2.658738</td>\n",
       "      <td>1.584812</td>\n",
       "      <td>0.124505</td>\n",
       "      <td>0.000000</td>\n",
       "    </tr>\n",
       "    <tr>\n",
       "      <th>50%</th>\n",
       "      <td>22.777890</td>\n",
       "      <td>1.700499</td>\n",
       "      <td>83.000000</td>\n",
       "      <td>2.385502</td>\n",
       "      <td>3.000000</td>\n",
       "      <td>2.000000</td>\n",
       "      <td>1.000000</td>\n",
       "      <td>0.625350</td>\n",
       "    </tr>\n",
       "    <tr>\n",
       "      <th>75%</th>\n",
       "      <td>26.000000</td>\n",
       "      <td>1.768464</td>\n",
       "      <td>107.430682</td>\n",
       "      <td>3.000000</td>\n",
       "      <td>3.000000</td>\n",
       "      <td>2.477420</td>\n",
       "      <td>1.666678</td>\n",
       "      <td>1.000000</td>\n",
       "    </tr>\n",
       "    <tr>\n",
       "      <th>max</th>\n",
       "      <td>61.000000</td>\n",
       "      <td>1.980000</td>\n",
       "      <td>173.000000</td>\n",
       "      <td>3.000000</td>\n",
       "      <td>4.000000</td>\n",
       "      <td>3.000000</td>\n",
       "      <td>3.000000</td>\n",
       "      <td>2.000000</td>\n",
       "    </tr>\n",
       "  </tbody>\n",
       "</table>\n",
       "</div>"
      ],
      "text/plain": [
       "               Age       Height       Weight         FCVC          NCP  \\\n",
       "count  2111.000000  2111.000000  2111.000000  2111.000000  2111.000000   \n",
       "mean     24.312600     1.701677    86.586058     2.419043     2.685628   \n",
       "std       6.345968     0.093305    26.191172     0.533927     0.778039   \n",
       "min      14.000000     1.450000    39.000000     1.000000     1.000000   \n",
       "25%      19.947192     1.630000    65.473343     2.000000     2.658738   \n",
       "50%      22.777890     1.700499    83.000000     2.385502     3.000000   \n",
       "75%      26.000000     1.768464   107.430682     3.000000     3.000000   \n",
       "max      61.000000     1.980000   173.000000     3.000000     4.000000   \n",
       "\n",
       "              CH2O          FAF          TUE  \n",
       "count  2111.000000  2111.000000  2111.000000  \n",
       "mean      2.008011     1.010298     0.657866  \n",
       "std       0.612953     0.850592     0.608927  \n",
       "min       1.000000     0.000000     0.000000  \n",
       "25%       1.584812     0.124505     0.000000  \n",
       "50%       2.000000     1.000000     0.625350  \n",
       "75%       2.477420     1.666678     1.000000  \n",
       "max       3.000000     3.000000     2.000000  "
      ]
     },
     "execution_count": 7,
     "metadata": {},
     "output_type": "execute_result"
    }
   ],
   "source": [
    "# Descriptive statistics\n",
    "df.describe()"
   ]
  },
  {
   "cell_type": "code",
   "execution_count": 8,
   "id": "5217bdd6",
   "metadata": {
    "execution": {
     "iopub.execute_input": "2024-04-16T19:58:13.540026Z",
     "iopub.status.busy": "2024-04-16T19:58:13.539471Z",
     "iopub.status.idle": "2024-04-16T19:58:13.548681Z",
     "shell.execute_reply": "2024-04-16T19:58:13.548003Z"
    },
    "papermill": {
     "duration": 0.021234,
     "end_time": "2024-04-16T19:58:13.550543",
     "exception": false,
     "start_time": "2024-04-16T19:58:13.529309",
     "status": "completed"
    },
    "tags": []
   },
   "outputs": [
    {
     "name": "stdout",
     "output_type": "stream",
     "text": [
      "NObeyesdad\n",
      "Obesity_Type_I         0.166272\n",
      "Obesity_Type_III       0.153482\n",
      "Obesity_Type_II        0.140692\n",
      "Overweight_Level_I     0.137376\n",
      "Overweight_Level_II    0.137376\n",
      "Normal_Weight          0.135955\n",
      "Insufficient_Weight    0.128849\n",
      "Name: proportion, dtype: float64\n"
     ]
    }
   ],
   "source": [
    "# Check the distribution of the target variable\n",
    "print(df['NObeyesdad'].value_counts(normalize=True))"
   ]
  },
  {
   "cell_type": "markdown",
   "id": "0e38d28d",
   "metadata": {
    "papermill": {
     "duration": 0.008856,
     "end_time": "2024-04-16T19:58:13.568561",
     "exception": false,
     "start_time": "2024-04-16T19:58:13.559705",
     "status": "completed"
    },
    "tags": []
   },
   "source": [
    "From the value counts, we can see that the target variable is balanced."
   ]
  },
  {
   "cell_type": "code",
   "execution_count": 9,
   "id": "6f7f55c8",
   "metadata": {
    "execution": {
     "iopub.execute_input": "2024-04-16T19:58:13.588606Z",
     "iopub.status.busy": "2024-04-16T19:58:13.587947Z",
     "iopub.status.idle": "2024-04-16T19:58:13.825164Z",
     "shell.execute_reply": "2024-04-16T19:58:13.824147Z"
    },
    "papermill": {
     "duration": 0.249895,
     "end_time": "2024-04-16T19:58:13.827518",
     "exception": false,
     "start_time": "2024-04-16T19:58:13.577623",
     "status": "completed"
    },
    "tags": []
   },
   "outputs": [],
   "source": [
    "# Ordinal encode the target variable\n",
    "from sklearn.preprocessing import OrdinalEncoder\n",
    "encoder = OrdinalEncoder(categories=[['Insufficient_Weight', 'Normal_Weight', 'Overweight_Level_I', 'Overweight_Level_II', 'Obesity_Type_I', 'Obesity_Type_II', 'Obesity_Type_III']])\n",
    "df['NObeyesdad'] = encoder.fit_transform(df[['NObeyesdad']])"
   ]
  },
  {
   "cell_type": "code",
   "execution_count": 10,
   "id": "8ab478ce",
   "metadata": {
    "execution": {
     "iopub.execute_input": "2024-04-16T19:58:13.847967Z",
     "iopub.status.busy": "2024-04-16T19:58:13.847605Z",
     "iopub.status.idle": "2024-04-16T19:58:14.044690Z",
     "shell.execute_reply": "2024-04-16T19:58:14.043718Z"
    },
    "papermill": {
     "duration": 0.210379,
     "end_time": "2024-04-16T19:58:14.047264",
     "exception": false,
     "start_time": "2024-04-16T19:58:13.836885",
     "status": "completed"
    },
    "tags": []
   },
   "outputs": [
    {
     "data": {
      "image/png": "[encoded data removed]",
      "text/plain": [
       "<Figure size 500x500 with 1 Axes>"
      ]
     },
     "metadata": {},
     "output_type": "display_data"
    }
   ],
   "source": [
    "# Isolate continuous variables\n",
    "float_cols = df.select_dtypes(include=['float64']).columns\n",
    "\n",
    "#   Check float columns correlation with target variable\n",
    "correlations = df[float_cols].corrwith(df['NObeyesdad'])[:-1].sort_values(ascending=False)\n",
    "\n",
    "# Plot the correlation\n",
    "plt.figure(figsize=(5, 5))\n",
    "sns.heatmap(correlations.to_frame(), cmap='coolwarm', annot=True, cbar=False)\n",
    "plt.title('Correlation with Obesity Level')\n",
    "plt.show()"
   ]
  },
  {
   "cell_type": "markdown",
   "id": "f8461aba",
   "metadata": {
    "papermill": {
     "duration": 0.009369,
     "end_time": "2024-04-16T19:58:14.066683",
     "exception": false,
     "start_time": "2024-04-16T19:58:14.057314",
     "status": "completed"
    },
    "tags": []
   },
   "source": [
    "* Unsuprisingly, there is a very strong correlation between weight and obesity level\n",
    "* As the Weight is obviously a key predictor of Obesity, I will drop this feature from the classification model so I can assess the importance of other less obvious features\n",
    "* There is weak a positive correlation between Age and Obesity Level"
   ]
  },
  {
   "cell_type": "markdown",
   "id": "3d3608c7",
   "metadata": {
    "papermill": {
     "duration": 0.00902,
     "end_time": "2024-04-16T19:58:14.085168",
     "exception": false,
     "start_time": "2024-04-16T19:58:14.076148",
     "status": "completed"
    },
    "tags": []
   },
   "source": [
    "## Data Pre-Processing"
   ]
  },
  {
   "cell_type": "code",
   "execution_count": 11,
   "id": "61e9bb53",
   "metadata": {
    "execution": {
     "iopub.execute_input": "2024-04-16T19:58:14.105898Z",
     "iopub.status.busy": "2024-04-16T19:58:14.105004Z",
     "iopub.status.idle": "2024-04-16T19:58:14.117065Z",
     "shell.execute_reply": "2024-04-16T19:58:14.115427Z"
    },
    "papermill": {
     "duration": 0.024897,
     "end_time": "2024-04-16T19:58:14.119424",
     "exception": false,
     "start_time": "2024-04-16T19:58:14.094527",
     "status": "completed"
    },
    "tags": []
   },
   "outputs": [
    {
     "name": "stdout",
     "output_type": "stream",
     "text": [
      "Gender: ['Female' 'Male']\n",
      "CALC: ['no' 'Sometimes' 'Frequently' 'Always']\n",
      "FAVC: ['no' 'yes']\n",
      "SCC: ['no' 'yes']\n",
      "SMOKE: ['no' 'yes']\n",
      "family_history_with_overweight: ['yes' 'no']\n",
      "CAEC: ['Sometimes' 'Frequently' 'Always' 'no']\n",
      "MTRANS: ['Public_Transportation' 'Walking' 'Automobile' 'Motorbike' 'Bike']\n"
     ]
    }
   ],
   "source": [
    "# Isolate categorical variables\n",
    "categorical_cols = df.select_dtypes(include=['object']).columns\n",
    "\n",
    "# Check the unique values in each categorical column\n",
    "for col in categorical_cols:\n",
    "    print(f'{col}: {df[col].unique()}')"
   ]
  },
  {
   "cell_type": "code",
   "execution_count": 12,
   "id": "1f67b380",
   "metadata": {
    "execution": {
     "iopub.execute_input": "2024-04-16T19:58:14.141238Z",
     "iopub.status.busy": "2024-04-16T19:58:14.140585Z",
     "iopub.status.idle": "2024-04-16T19:58:14.163918Z",
     "shell.execute_reply": "2024-04-16T19:58:14.163036Z"
    },
    "papermill": {
     "duration": 0.036073,
     "end_time": "2024-04-16T19:58:14.165742",
     "exception": false,
     "start_time": "2024-04-16T19:58:14.129669",
     "status": "completed"
    },
    "tags": []
   },
   "outputs": [
    {
     "data": {
      "text/plain": [
       "Age                               float64\n",
       "Gender                              int64\n",
       "Height                            float64\n",
       "Weight                            float64\n",
       "CALC                              float64\n",
       "FAVC                                int64\n",
       "FCVC                              float64\n",
       "NCP                               float64\n",
       "SCC                                 int64\n",
       "SMOKE                               int64\n",
       "CH2O                              float64\n",
       "family_history_with_overweight      int64\n",
       "FAF                               float64\n",
       "TUE                               float64\n",
       "CAEC                              float64\n",
       "NObeyesdad                        float64\n",
       "MTRANS_Bike                          bool\n",
       "MTRANS_Motorbike                     bool\n",
       "MTRANS_Public_Transportation         bool\n",
       "MTRANS_Walking                       bool\n",
       "dtype: object"
      ]
     },
     "execution_count": 12,
     "metadata": {},
     "output_type": "execute_result"
    }
   ],
   "source": [
    "# Label encode Gender column\n",
    "from sklearn.preprocessing import LabelEncoder\n",
    "le = LabelEncoder()\n",
    "df['Gender'] = le.fit_transform(df['Gender'])\n",
    "\n",
    "# Encode 'yes' and 'no' colums with 1 and 0\n",
    "df['family_history_with_overweight'] = df['family_history_with_overweight'].map({'yes': 1, 'no': 0})\n",
    "df['FAVC'] = df['FAVC'].map({'yes': 1, 'no': 0})\n",
    "df['SMOKE'] = df['SMOKE'].map({'yes': 1, 'no': 0})\n",
    "df['SCC'] = df['SCC'].map({'yes': 1, 'no': 0})\n",
    "\n",
    "# Ordinal encode 'CALC' column and 'CAEC' column\n",
    "from sklearn.preprocessing import OrdinalEncoder\n",
    "ordinal_encoder = OrdinalEncoder(categories=[['no', 'Sometimes', 'Frequently', 'Always']])\n",
    "df['CALC'] = ordinal_encoder.fit_transform(df[['CALC']])\n",
    "df['CAEC'] = ordinal_encoder.fit_transform(df[['CAEC']])\n",
    "\n",
    "# One hot encode 'MTRANS' column\n",
    "df = pd.get_dummies(df, columns=['MTRANS'], drop_first=True)\n",
    "\n",
    "# Check the data types\n",
    "df.dtypes"
   ]
  },
  {
   "cell_type": "code",
   "execution_count": 13,
   "id": "dda6d22f",
   "metadata": {
    "execution": {
     "iopub.execute_input": "2024-04-16T19:58:14.186641Z",
     "iopub.status.busy": "2024-04-16T19:58:14.186023Z",
     "iopub.status.idle": "2024-04-16T19:58:14.296861Z",
     "shell.execute_reply": "2024-04-16T19:58:14.295473Z"
    },
    "papermill": {
     "duration": 0.123802,
     "end_time": "2024-04-16T19:58:14.299265",
     "exception": false,
     "start_time": "2024-04-16T19:58:14.175463",
     "status": "completed"
    },
    "tags": []
   },
   "outputs": [],
   "source": [
    "# Split the data into features and target variable. Drop 'Weight' due to collinearity.\n",
    "X = df.drop(columns=['NObeyesdad', 'Weight'])\n",
    "y = df['NObeyesdad']\n",
    "\n",
    "# Split the data into training and testing sets\n",
    "from sklearn.model_selection import train_test_split\n",
    "X_train, X_test, y_train, y_test = train_test_split(X, y, test_size=0.2, random_state=42)"
   ]
  },
  {
   "cell_type": "markdown",
   "id": "e7e7335e",
   "metadata": {
    "papermill": {
     "duration": 0.009441,
     "end_time": "2024-04-16T19:58:14.318607",
     "exception": false,
     "start_time": "2024-04-16T19:58:14.309166",
     "status": "completed"
    },
    "tags": []
   },
   "source": [
    "## Classification Models\n",
    "* I will begin with a simple decision tree and then progress to more complex ensemble methods in the form of random forest and XGBoost\n",
    "* My goal is to maximise performance whilst retaining model interpretability"
   ]
  },
  {
   "cell_type": "code",
   "execution_count": 14,
   "id": "e6af7e92",
   "metadata": {
    "execution": {
     "iopub.execute_input": "2024-04-16T19:58:14.339531Z",
     "iopub.status.busy": "2024-04-16T19:58:14.339215Z",
     "iopub.status.idle": "2024-04-16T19:58:14.780176Z",
     "shell.execute_reply": "2024-04-16T19:58:14.779194Z"
    },
    "papermill": {
     "duration": 0.454067,
     "end_time": "2024-04-16T19:58:14.782540",
     "exception": false,
     "start_time": "2024-04-16T19:58:14.328473",
     "status": "completed"
    },
    "tags": []
   },
   "outputs": [],
   "source": [
    "# Import Decision Tree Classifier, Random Forest Classifier, and XGBoost Classifier\n",
    "from sklearn.tree import DecisionTreeClassifier\n",
    "from sklearn.ensemble import RandomForestClassifier\n",
    "from xgboost import XGBClassifier"
   ]
  },
  {
   "cell_type": "code",
   "execution_count": 15,
   "id": "6adbf89a",
   "metadata": {
    "execution": {
     "iopub.execute_input": "2024-04-16T19:58:14.804178Z",
     "iopub.status.busy": "2024-04-16T19:58:14.803830Z",
     "iopub.status.idle": "2024-04-16T19:58:14.808558Z",
     "shell.execute_reply": "2024-04-16T19:58:14.807598Z"
    },
    "papermill": {
     "duration": 0.017682,
     "end_time": "2024-04-16T19:58:14.810311",
     "exception": false,
     "start_time": "2024-04-16T19:58:14.792629",
     "status": "completed"
    },
    "tags": []
   },
   "outputs": [],
   "source": [
    "# Define function to evaluate models\n",
    "from sklearn.metrics import accuracy_score, classification_report\n",
    "\n",
    "def evaluate_model(model):\n",
    "    model.fit(X_train, y_train)\n",
    "    y_pred = model.predict(X_test)\n",
    "    print(f'Accuracy: {accuracy_score(y_test, y_pred)}')\n",
    "    print(classification_report(y_test, y_pred))"
   ]
  },
  {
   "cell_type": "code",
   "execution_count": 16,
   "id": "16cca602",
   "metadata": {
    "execution": {
     "iopub.execute_input": "2024-04-16T19:58:14.831328Z",
     "iopub.status.busy": "2024-04-16T19:58:14.830605Z",
     "iopub.status.idle": "2024-04-16T19:58:14.836005Z",
     "shell.execute_reply": "2024-04-16T19:58:14.834542Z"
    },
    "papermill": {
     "duration": 0.018132,
     "end_time": "2024-04-16T19:58:14.838207",
     "exception": false,
     "start_time": "2024-04-16T19:58:14.820075",
     "status": "completed"
    },
    "tags": []
   },
   "outputs": [],
   "source": [
    "# Define funcion to check for overfitting\n",
    "def check_overfitting(model):\n",
    "    model.fit(X_train, y_train)\n",
    "    y_pred_train = model.predict(X_train)\n",
    "    y_pred_test = model.predict(X_test)\n",
    "    print(f'Training Accuracy: {accuracy_score(y_train, y_pred_train)}')\n",
    "    print(f'Testing Accuracy: {accuracy_score(y_test, y_pred_test)}')"
   ]
  },
  {
   "cell_type": "code",
   "execution_count": 17,
   "id": "7e5c91c4",
   "metadata": {
    "execution": {
     "iopub.execute_input": "2024-04-16T19:58:14.859552Z",
     "iopub.status.busy": "2024-04-16T19:58:14.858977Z",
     "iopub.status.idle": "2024-04-16T19:58:14.864060Z",
     "shell.execute_reply": "2024-04-16T19:58:14.863410Z"
    },
    "papermill": {
     "duration": 0.017844,
     "end_time": "2024-04-16T19:58:14.865879",
     "exception": false,
     "start_time": "2024-04-16T19:58:14.848035",
     "status": "completed"
    },
    "tags": []
   },
   "outputs": [],
   "source": [
    "# Create parameter grid for decision tree GridSearchCV\n",
    "dt_param_grid = {\n",
    "    'criterion': ['gini', 'entropy'],\n",
    "    'splitter': ['best', 'random'],\n",
    "    'max_depth': [None, 5, 10, 15, 20],\n",
    "}\n",
    "\n",
    "# Create parameter grid for random forest GridSearchCV\n",
    "rf_param_grid = {\n",
    "    'n_estimators': [100, 200, 300, 400, 500],\n",
    "    'criterion': ['gini', 'entropy'],\n",
    "    'max_depth': [None, 5, 10, 15, 20],\n",
    "}\n",
    "\n",
    "# Create parameter grid for XGBoost GridSearchCV\n",
    "xgb_param_grid = {\n",
    "    'n_estimators': [100, 200, 300, 400, 500],\n",
    "    'max_depth': [3, 4, 5, 6, 7],\n",
    "}"
   ]
  },
  {
   "cell_type": "code",
   "execution_count": 18,
   "id": "a78e6446",
   "metadata": {
    "execution": {
     "iopub.execute_input": "2024-04-16T19:58:14.887156Z",
     "iopub.status.busy": "2024-04-16T19:58:14.886803Z",
     "iopub.status.idle": "2024-04-16T19:58:16.740666Z",
     "shell.execute_reply": "2024-04-16T19:58:16.738971Z"
    },
    "papermill": {
     "duration": 1.867452,
     "end_time": "2024-04-16T19:58:16.743167",
     "exception": false,
     "start_time": "2024-04-16T19:58:14.875715",
     "status": "completed"
    },
    "tags": []
   },
   "outputs": [
    {
     "name": "stdout",
     "output_type": "stream",
     "text": [
      "{'criterion': 'entropy', 'max_depth': 20, 'splitter': 'best'}\n",
      "------------------------------------------------------------\n",
      "Training Accuracy: 1.0\n",
      "Testing Accuracy: 0.7872340425531915\n"
     ]
    }
   ],
   "source": [
    "# Train best decision tree model\n",
    "from sklearn.model_selection import GridSearchCV\n",
    "dt = DecisionTreeClassifier()\n",
    "dt_grid_search = GridSearchCV(dt, dt_param_grid, cv=5, n_jobs=-1, scoring='accuracy')\n",
    "dt_grid_search.fit(X_train, y_train)\n",
    "dt_best = dt_grid_search.best_estimator_\n",
    "\n",
    "# Print best decison tree hyperparameters\n",
    "print(dt_grid_search.best_params_)\n",
    "print(\"------------------------------------------------------------\")\n",
    "\n",
    "# Check for overfitting\n",
    "check_overfitting(dt_best)"
   ]
  },
  {
   "cell_type": "code",
   "execution_count": 19,
   "id": "eed901e3",
   "metadata": {
    "execution": {
     "iopub.execute_input": "2024-04-16T19:58:16.763884Z",
     "iopub.status.busy": "2024-04-16T19:58:16.763482Z",
     "iopub.status.idle": "2024-04-16T19:59:39.724668Z",
     "shell.execute_reply": "2024-04-16T19:59:39.723549Z"
    },
    "papermill": {
     "duration": 82.974601,
     "end_time": "2024-04-16T19:59:39.727440",
     "exception": false,
     "start_time": "2024-04-16T19:58:16.752839",
     "status": "completed"
    },
    "tags": []
   },
   "outputs": [
    {
     "name": "stdout",
     "output_type": "stream",
     "text": [
      "{'criterion': 'entropy', 'max_depth': 15, 'n_estimators': 400}\n",
      "------------------------------------------------------------\n",
      "Training Accuracy: 1.0\n",
      "Testing Accuracy: 0.8747044917257684\n"
     ]
    }
   ],
   "source": [
    "# Train best random forest model\n",
    "rf = RandomForestClassifier()\n",
    "rf_grid_search = GridSearchCV(rf, rf_param_grid, cv=5, n_jobs=-1, scoring='accuracy')\n",
    "rf_grid_search.fit(X_train, y_train)\n",
    "rf_best = rf_grid_search.best_estimator_\n",
    "\n",
    "# Print best random forest hyperparameters\n",
    "print(rf_grid_search.best_params_)\n",
    "print(\"------------------------------------------------------------\")\n",
    "\n",
    "# Check for overfitting\n",
    "check_overfitting(rf_best)"
   ]
  },
  {
   "cell_type": "code",
   "execution_count": 20,
   "id": "aaf14b7a",
   "metadata": {
    "execution": {
     "iopub.execute_input": "2024-04-16T19:59:39.748984Z",
     "iopub.status.busy": "2024-04-16T19:59:39.748658Z",
     "iopub.status.idle": "2024-04-16T20:00:27.728943Z",
     "shell.execute_reply": "2024-04-16T20:00:27.728207Z"
    },
    "papermill": {
     "duration": 47.993171,
     "end_time": "2024-04-16T20:00:27.730737",
     "exception": false,
     "start_time": "2024-04-16T19:59:39.737566",
     "status": "completed"
    },
    "tags": []
   },
   "outputs": [
    {
     "name": "stdout",
     "output_type": "stream",
     "text": [
      "{'max_depth': 7, 'n_estimators': 300}\n",
      "------------------------------------------------------------\n",
      "Training Accuracy: 1.0\n",
      "Testing Accuracy: 0.8628841607565012\n"
     ]
    }
   ],
   "source": [
    "# Train best XGBoost model\n",
    "xgb = XGBClassifier()\n",
    "xgb_grid_search = GridSearchCV(xgb, xgb_param_grid, cv=5, n_jobs=-1, scoring='accuracy')\n",
    "xgb_grid_search.fit(X_train, y_train)\n",
    "xgb_best = xgb_grid_search.best_estimator_\n",
    "\n",
    "# Print best XGBoost hyperparameters\n",
    "print(xgb_grid_search.best_params_)\n",
    "print(\"------------------------------------------------------------\")\n",
    "\n",
    "# Check for overfitting\n",
    "check_overfitting(xgb_best)"
   ]
  },
  {
   "cell_type": "markdown",
   "id": "8b3930f2",
   "metadata": {
    "papermill": {
     "duration": 0.009524,
     "end_time": "2024-04-16T20:00:27.750696",
     "exception": false,
     "start_time": "2024-04-16T20:00:27.741172",
     "status": "completed"
    },
    "tags": []
   },
   "source": [
    "### Findings\n",
    "* All three models fit perfectly to the training data. Overfitting is common for standard trees which explains the larger gap between the train and test accuracy.\n",
    "* Both ensemble methods random forest and XGBoost perform better with the test set than the basic decision tree.\n",
    "* Next, I will look further into the evaluation metrics for random forest and XGBoost before choose the optimal model."
   ]
  },
  {
   "cell_type": "code",
   "execution_count": 21,
   "id": "a701029f",
   "metadata": {
    "execution": {
     "iopub.execute_input": "2024-04-16T20:00:27.772422Z",
     "iopub.status.busy": "2024-04-16T20:00:27.771558Z",
     "iopub.status.idle": "2024-04-16T20:00:29.457293Z",
     "shell.execute_reply": "2024-04-16T20:00:29.456151Z"
    },
    "papermill": {
     "duration": 1.69899,
     "end_time": "2024-04-16T20:00:29.459539",
     "exception": false,
     "start_time": "2024-04-16T20:00:27.760549",
     "status": "completed"
    },
    "tags": []
   },
   "outputs": [
    {
     "name": "stdout",
     "output_type": "stream",
     "text": [
      "Accuracy: 0.8794326241134752\n",
      "              precision    recall  f1-score   support\n",
      "\n",
      "         0.0       0.95      0.95      0.95        56\n",
      "         1.0       0.68      0.84      0.75        62\n",
      "         2.0       0.90      0.80      0.85        56\n",
      "         3.0       0.88      0.76      0.82        50\n",
      "         4.0       0.94      0.85      0.89        78\n",
      "         5.0       0.85      0.95      0.89        58\n",
      "         6.0       1.00      1.00      1.00        63\n",
      "\n",
      "    accuracy                           0.88       423\n",
      "   macro avg       0.89      0.88      0.88       423\n",
      "weighted avg       0.89      0.88      0.88       423\n",
      "\n"
     ]
    }
   ],
   "source": [
    "# Evaluate random forest model\n",
    "evaluate_model(rf_best)"
   ]
  },
  {
   "cell_type": "code",
   "execution_count": 22,
   "id": "51b22774",
   "metadata": {
    "execution": {
     "iopub.execute_input": "2024-04-16T20:00:29.481260Z",
     "iopub.status.busy": "2024-04-16T20:00:29.480900Z",
     "iopub.status.idle": "2024-04-16T20:00:29.538799Z",
     "shell.execute_reply": "2024-04-16T20:00:29.537877Z"
    },
    "papermill": {
     "duration": 0.071454,
     "end_time": "2024-04-16T20:00:29.541208",
     "exception": false,
     "start_time": "2024-04-16T20:00:29.469754",
     "status": "completed"
    },
    "tags": []
   },
   "outputs": [
    {
     "data": {
      "text/plain": [
       "array([[53,  2,  1,  0,  0,  0,  0],\n",
       "       [ 2, 52,  2,  3,  3,  0,  0],\n",
       "       [ 1,  9, 45,  1,  0,  0,  0],\n",
       "       [ 0,  4,  2, 38,  1,  5,  0],\n",
       "       [ 0,  6,  0,  1, 66,  5,  0],\n",
       "       [ 0,  3,  0,  0,  0, 55,  0],\n",
       "       [ 0,  0,  0,  0,  0,  0, 63]])"
      ]
     },
     "execution_count": 22,
     "metadata": {},
     "output_type": "execute_result"
    }
   ],
   "source": [
    "# Confusion matrix for random forest model\n",
    "from sklearn.metrics import confusion_matrix\n",
    "y_pred = rf_best.predict(X_test)\n",
    "confusion_matrix(y_test, y_pred)"
   ]
  },
  {
   "cell_type": "code",
   "execution_count": 23,
   "id": "5efadebd",
   "metadata": {
    "execution": {
     "iopub.execute_input": "2024-04-16T20:00:29.617550Z",
     "iopub.status.busy": "2024-04-16T20:00:29.616730Z",
     "iopub.status.idle": "2024-04-16T20:00:30.723455Z",
     "shell.execute_reply": "2024-04-16T20:00:30.722792Z"
    },
    "papermill": {
     "duration": 1.119895,
     "end_time": "2024-04-16T20:00:30.725524",
     "exception": false,
     "start_time": "2024-04-16T20:00:29.605629",
     "status": "completed"
    },
    "tags": []
   },
   "outputs": [
    {
     "name": "stdout",
     "output_type": "stream",
     "text": [
      "Accuracy: 0.8628841607565012\n",
      "              precision    recall  f1-score   support\n",
      "\n",
      "         0.0       0.93      0.89      0.91        56\n",
      "         1.0       0.69      0.74      0.71        62\n",
      "         2.0       0.84      0.82      0.83        56\n",
      "         3.0       0.85      0.78      0.81        50\n",
      "         4.0       0.87      0.86      0.86        78\n",
      "         5.0       0.90      0.93      0.92        58\n",
      "         6.0       0.98      1.00      0.99        63\n",
      "\n",
      "    accuracy                           0.86       423\n",
      "   macro avg       0.86      0.86      0.86       423\n",
      "weighted avg       0.86      0.86      0.86       423\n",
      "\n"
     ]
    }
   ],
   "source": [
    "# Evaluate XGBoost model\n",
    "evaluate_model(xgb_best)"
   ]
  },
  {
   "cell_type": "code",
   "execution_count": 24,
   "id": "ba4d2383",
   "metadata": {
    "execution": {
     "iopub.execute_input": "2024-04-16T20:00:30.747507Z",
     "iopub.status.busy": "2024-04-16T20:00:30.746942Z",
     "iopub.status.idle": "2024-04-16T20:00:30.765749Z",
     "shell.execute_reply": "2024-04-16T20:00:30.765011Z"
    },
    "papermill": {
     "duration": 0.03229,
     "end_time": "2024-04-16T20:00:30.767999",
     "exception": false,
     "start_time": "2024-04-16T20:00:30.735709",
     "status": "completed"
    },
    "tags": []
   },
   "outputs": [
    {
     "data": {
      "text/plain": [
       "array([[50,  2,  3,  0,  1,  0,  0],\n",
       "       [ 4, 46,  3,  4,  5,  0,  0],\n",
       "       [ 0,  8, 46,  0,  1,  1,  0],\n",
       "       [ 0,  2,  3, 39,  2,  3,  1],\n",
       "       [ 0,  7,  0,  2, 67,  2,  0],\n",
       "       [ 0,  2,  0,  1,  1, 54,  0],\n",
       "       [ 0,  0,  0,  0,  0,  0, 63]])"
      ]
     },
     "execution_count": 24,
     "metadata": {},
     "output_type": "execute_result"
    }
   ],
   "source": [
    "# Confusion matrix for XGBoost model\n",
    "y_pred = xgb_best.predict(X_test)\n",
    "confusion_matrix(y_test, y_pred)"
   ]
  },
  {
   "cell_type": "markdown",
   "id": "0ca7e500",
   "metadata": {
    "papermill": {
     "duration": 0.01,
     "end_time": "2024-04-16T20:00:30.788692",
     "exception": false,
     "start_time": "2024-04-16T20:00:30.778692",
     "status": "completed"
    },
    "tags": []
   },
   "source": [
    "* Random Forest outperforms XGBoost for all of precision, recall, and f1-score\n",
    "* Random Forest also tends to be more interpretable than XGBoost as bagging is a simpler ensemble method than gradient boosting"
   ]
  },
  {
   "cell_type": "markdown",
   "id": "7cf13cf3",
   "metadata": {
    "papermill": {
     "duration": 0.010213,
     "end_time": "2024-04-16T20:00:30.809144",
     "exception": false,
     "start_time": "2024-04-16T20:00:30.798931",
     "status": "completed"
    },
    "tags": []
   },
   "source": [
    "### Interpret the Random Forest Model Results"
   ]
  },
  {
   "cell_type": "code",
   "execution_count": 25,
   "id": "85fa7048",
   "metadata": {
    "execution": {
     "iopub.execute_input": "2024-04-16T20:00:30.831988Z",
     "iopub.status.busy": "2024-04-16T20:00:30.831330Z",
     "iopub.status.idle": "2024-04-16T20:00:30.855413Z",
     "shell.execute_reply": "2024-04-16T20:00:30.854565Z"
    },
    "papermill": {
     "duration": 0.037735,
     "end_time": "2024-04-16T20:00:30.857126",
     "exception": false,
     "start_time": "2024-04-16T20:00:30.819391",
     "status": "completed"
    },
    "tags": []
   },
   "outputs": [
    {
     "data": {
      "text/plain": [
       "Age                               0.146278\n",
       "FCVC                              0.144363\n",
       "Height                            0.110548\n",
       "NCP                               0.081624\n",
       "TUE                               0.079389\n",
       "Gender                            0.076570\n",
       "FAF                               0.069203\n",
       "CH2O                              0.066848\n",
       "family_history_with_overweight    0.058423\n",
       "CAEC                              0.049743\n",
       "CALC                              0.048778\n",
       "MTRANS_Public_Transportation      0.031401\n",
       "FAVC                              0.020897\n",
       "SCC                               0.007808\n",
       "MTRANS_Walking                    0.004105\n",
       "SMOKE                             0.002773\n",
       "MTRANS_Motorbike                  0.000823\n",
       "MTRANS_Bike                       0.000426\n",
       "dtype: float64"
      ]
     },
     "execution_count": 25,
     "metadata": {},
     "output_type": "execute_result"
    }
   ],
   "source": [
    "# Determine feature importance of random forest model\n",
    "feature_importances = rf_best.feature_importances_\n",
    "features = X.columns\n",
    "importances = pd.Series(feature_importances, index=features).sort_values(ascending=False)\n",
    "importances"
   ]
  },
  {
   "cell_type": "code",
   "execution_count": 26,
   "id": "b3fb4e91",
   "metadata": {
    "execution": {
     "iopub.execute_input": "2024-04-16T20:00:30.879244Z",
     "iopub.status.busy": "2024-04-16T20:00:30.878870Z",
     "iopub.status.idle": "2024-04-16T20:00:31.186012Z",
     "shell.execute_reply": "2024-04-16T20:00:31.185334Z"
    },
    "papermill": {
     "duration": 0.320708,
     "end_time": "2024-04-16T20:00:31.188171",
     "exception": false,
     "start_time": "2024-04-16T20:00:30.867463",
     "status": "completed"
    },
    "tags": []
   },
   "outputs": [
    {
     "data": {
      "image/png": "[encoded data removed]",
      "text/plain": [
       "<Figure size 1000x500 with 1 Axes>"
      ]
     },
     "metadata": {},
     "output_type": "display_data"
    }
   ],
   "source": [
    "# Plot feature importances\n",
    "plt.figure(figsize=(10, 5))\n",
    "sns.barplot(x=importances, y=importances.index)\n",
    "plt.xlabel('Feature Importance')\n",
    "plt.ylabel('Feature')\n",
    "plt.title('Random Forest Feature Importance')\n",
    "plt.show()"
   ]
  },
  {
   "cell_type": "markdown",
   "id": "3eab46d9",
   "metadata": {
    "papermill": {
     "duration": 0.010438,
     "end_time": "2024-04-16T20:00:31.209652",
     "exception": false,
     "start_time": "2024-04-16T20:00:31.199214",
     "status": "completed"
    },
    "tags": []
   },
   "source": [
    "**The top 3 features are:**\n",
    "* **'Age'**: An increase in age increases the chance of obesity. This makes sense as an increasing age may mean a more sedentary lifestyle and slower metabolism.\n",
    "* **'FCVC' (\" Do you usually eat vegetables in your meals? \")**: This indicates eating vegetables in meals increases the risk of obesity which is not something I expected. This is likely a case of 'correlation does not imply causation'. Further research into this could clarify any uncertainty and domain knowledge would be useful here.\n",
    "* **'Height'**: Another non-obvious factor contributing to obesity.\n",
    "\n",
    "Visualisations are below which may uncover further insights"
   ]
  },
  {
   "cell_type": "code",
   "execution_count": 27,
   "id": "a34c9ec6",
   "metadata": {
    "execution": {
     "iopub.execute_input": "2024-04-16T20:00:31.232916Z",
     "iopub.status.busy": "2024-04-16T20:00:31.232308Z",
     "iopub.status.idle": "2024-04-16T20:00:31.238757Z",
     "shell.execute_reply": "2024-04-16T20:00:31.237951Z"
    },
    "papermill": {
     "duration": 0.020933,
     "end_time": "2024-04-16T20:00:31.241176",
     "exception": false,
     "start_time": "2024-04-16T20:00:31.220243",
     "status": "completed"
    },
    "tags": []
   },
   "outputs": [],
   "source": [
    "# Decode the ordinal encoded target variable\n",
    "df['NObeyesdad'] = df['NObeyesdad'].replace({0: 'Insufficient_Weight', 1: 'Normal_Weight', 2: 'Overweight_Level_I', 3: 'Overweight_Level_II', 4: 'Obesity_Type_I', 5: 'Obesity_Type_II', 6: 'Obesity_Type_III'})"
   ]
  },
  {
   "cell_type": "code",
   "execution_count": 28,
   "id": "a5c86101",
   "metadata": {
    "execution": {
     "iopub.execute_input": "2024-04-16T20:00:31.265800Z",
     "iopub.status.busy": "2024-04-16T20:00:31.265430Z",
     "iopub.status.idle": "2024-04-16T20:00:31.511950Z",
     "shell.execute_reply": "2024-04-16T20:00:31.510930Z"
    },
    "papermill": {
     "duration": 0.261028,
     "end_time": "2024-04-16T20:00:31.513918",
     "exception": false,
     "start_time": "2024-04-16T20:00:31.252890",
     "status": "completed"
    },
    "tags": []
   },
   "outputs": [
    {
     "data": {
      "image/png": "[encoded data removed]",
      "text/plain": [
       "<Figure size 1000x500 with 1 Axes>"
      ]
     },
     "metadata": {},
     "output_type": "display_data"
    }
   ],
   "source": [
    "# Plot 'Age' against 'NObeyesdad' categories\n",
    "categories=['Insufficient_Weight', 'Normal_Weight', 'Overweight_Level_I', 'Overweight_Level_II', 'Obesity_Type_I', 'Obesity_Type_II', 'Obesity_Type_III']\n",
    "\n",
    "fig, ax = plt.subplots(1, 1, figsize=(10, 5))\n",
    "sns.boxplot(x='NObeyesdad', y='Age', data=df, order=categories, ax=ax)\n",
    "plt.xticks(rotation=45)\n",
    "plt.title('Age vs Obesity Level')\n",
    "plt.show()"
   ]
  },
  {
   "cell_type": "markdown",
   "id": "bd380f33",
   "metadata": {
    "papermill": {
     "duration": 0.01196,
     "end_time": "2024-04-16T20:00:31.538716",
     "exception": false,
     "start_time": "2024-04-16T20:00:31.526756",
     "status": "completed"
    },
    "tags": []
   },
   "source": [
    "The above visualisation shows that as we progress through obesity categories, from underweight to most obese, the median age generally increases. This suggests older people are at higher risk of obesity, whereas younger peoople are at higher risk of being underweight."
   ]
  },
  {
   "cell_type": "code",
   "execution_count": 29,
   "id": "def17297",
   "metadata": {
    "execution": {
     "iopub.execute_input": "2024-04-16T20:00:31.564691Z",
     "iopub.status.busy": "2024-04-16T20:00:31.564361Z",
     "iopub.status.idle": "2024-04-16T20:00:31.762351Z",
     "shell.execute_reply": "2024-04-16T20:00:31.761251Z"
    },
    "papermill": {
     "duration": 0.213789,
     "end_time": "2024-04-16T20:00:31.764549",
     "exception": false,
     "start_time": "2024-04-16T20:00:31.550760",
     "status": "completed"
    },
    "tags": []
   },
   "outputs": [
    {
     "data": {
      "image/png": "[encoded data removed]",
      "text/plain": [
       "<Figure size 1000x500 with 1 Axes>"
      ]
     },
     "metadata": {},
     "output_type": "display_data"
    }
   ],
   "source": [
    "# Bar plot 'FCVC' against 'NObeyesdad' categories \n",
    "fig, ax = plt.subplots(1, 1, figsize=(10, 5))\n",
    "sns.barplot(x='FCVC', y='NObeyesdad', data=df, ax=ax, order=categories, errorbar=None)\n",
    "plt.title('FCVC vs Obesity Level')\n",
    "plt.show()"
   ]
  },
  {
   "cell_type": "code",
   "execution_count": 30,
   "id": "543bb287",
   "metadata": {
    "execution": {
     "iopub.execute_input": "2024-04-16T20:00:31.791407Z",
     "iopub.status.busy": "2024-04-16T20:00:31.791045Z",
     "iopub.status.idle": "2024-04-16T20:00:32.041469Z",
     "shell.execute_reply": "2024-04-16T20:00:32.040012Z"
    },
    "papermill": {
     "duration": 0.266259,
     "end_time": "2024-04-16T20:00:32.043537",
     "exception": false,
     "start_time": "2024-04-16T20:00:31.777278",
     "status": "completed"
    },
    "tags": []
   },
   "outputs": [
    {
     "data": {
      "image/png": "[encoded data removed]",
      "text/plain": [
       "<Figure size 1000x500 with 1 Axes>"
      ]
     },
     "metadata": {},
     "output_type": "display_data"
    },
    {
     "name": "stdout",
     "output_type": "stream",
     "text": [
      "NObeyesdad\n",
      "Insufficient_Weight    1.704180\n",
      "Normal_Weight          1.660000\n",
      "Obesity_Type_I         1.681855\n",
      "Obesity_Type_II        1.767140\n",
      "Obesity_Type_III       1.668995\n",
      "Overweight_Level_I     1.691638\n",
      "Overweight_Level_II    1.703914\n",
      "Name: Height, dtype: float64\n"
     ]
    }
   ],
   "source": [
    "# Plot 'Height' against 'NObeyesdad' categories\n",
    "fig, ax = plt.subplots(1, 1, figsize=(10, 5))\n",
    "sns.boxplot(x='NObeyesdad', y='Height', data=df, order=categories, ax=ax)\n",
    "plt.xticks(rotation=45)\n",
    "plt.title('Height vs Obesity Level')\n",
    "plt.show()\n",
    "\n",
    "# Print the median 'Height' for each 'NObeyesdad' category\n",
    "print(df.groupby('NObeyesdad')['Height'].median())"
   ]
  },
  {
   "cell_type": "markdown",
   "id": "bba83a36",
   "metadata": {
    "papermill": {
     "duration": 0.012272,
     "end_time": "2024-04-16T20:00:32.068487",
     "exception": false,
     "start_time": "2024-04-16T20:00:32.056215",
     "status": "completed"
    },
    "tags": []
   },
   "source": [
    "* There is no obvious global trend between heigh and obesity\n",
    "* The median height value for 'Obesity_Type_II' is significantly higher than for the other categories which may be skewing the models perception of the importance of height to obesity."
   ]
  },
  {
   "cell_type": "markdown",
   "id": "82f39f20",
   "metadata": {
    "papermill": {
     "duration": 0.011951,
     "end_time": "2024-04-16T20:00:32.092546",
     "exception": false,
     "start_time": "2024-04-16T20:00:32.080595",
     "status": "completed"
    },
    "tags": []
   },
   "source": [
    "## Conclusion\n",
    "* This notebook was mostly aimed at practicing classification modelling with the goal of achieving high performance whilst maintaining interpretability.\n",
    "* This work does not clearly explain why height and vegetable consumption are deemed important to obesity risk. This notebookk could be improved upon by including a more detailed EDA which may uncover the cause for these feature importance results."
   ]
  }
 ],
 "metadata": {
  "kaggle": {
   "accelerator": "none",
   "dataSources": [
    {
     "datasetId": 4751341,
     "sourceId": 8055891,
     "sourceType": "datasetVersion"
    }
   ],
   "dockerImageVersionId": 30684,
   "isGpuEnabled": false,
   "isInternetEnabled": true,
   "language": "python",
   "sourceType": "notebook"
  },
  "kernelspec": {
   "display_name": "Python 3",
   "language": "python",
   "name": "python3"
  },
  "language_info": {
   "codemirror_mode": {
    "name": "ipython",
    "version": 3
   },
   "file_extension": ".py",
   "mimetype": "text/x-python",
   "name": "python",
   "nbconvert_exporter": "python",
   "pygments_lexer": "ipython3",
   "version": "3.10.13"
  },
  "papermill": {
   "default_parameters": {},
   "duration": 146.193392,
   "end_time": "2024-04-16T20:00:34.726004",
   "environment_variables": {},
   "exception": null,
   "input_path": "__notebook__.ipynb",
   "output_path": "__notebook__.ipynb",
   "parameters": {},
   "start_time": "2024-04-16T19:58:08.532612",
   "version": "2.5.0"
  }
 },
 "nbformat": 4,
 "nbformat_minor": 5
}
