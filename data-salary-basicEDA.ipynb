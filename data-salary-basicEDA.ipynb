{
 "cells": [
  {
   "cell_type": "code",
   "execution_count": 1,
   "id": "e9c7feea",
   "metadata": {
    "_cell_guid": "b1076dfc-b9ad-4769-8c92-a6c4dae69d19",
    "_uuid": "8f2839f25d086af736a60e9eeb907d3b93b6e0e5",
    "execution": {
     "iopub.execute_input": "2023-09-26T14:41:03.926352Z",
     "iopub.status.busy": "2023-09-26T14:41:03.925323Z",
     "iopub.status.idle": "2023-09-26T14:41:03.948470Z",
     "shell.execute_reply": "2023-09-26T14:41:03.947236Z"
    },
    "papermill": {
     "duration": 0.038991,
     "end_time": "2023-09-26T14:41:03.951149",
     "exception": false,
     "start_time": "2023-09-26T14:41:03.912158",
     "status": "completed"
    },
    "tags": []
   },
   "outputs": [
    {
     "name": "stdout",
     "output_type": "stream",
     "text": [
      "/kaggle/input/data-science-salaries-2023/ds_salaries.csv\n"
     ]
    }
   ],
   "source": [
    "# This Python 3 environment comes with many helpful analytics libraries installed\n",
    "# It is defined by the kaggle/python Docker image: https://github.com/kaggle/docker-python\n",
    "# For example, here's several helpful packages to load\n",
    "\n",
    "import numpy as np # linear algebra\n",
    "import pandas as pd # data processing, CSV file I/O (e.g. pd.read_csv)\n",
    "\n",
    "# Input data files are available in the read-only \"../input/\" directory\n",
    "# For example, running this (by clicking run or pressing Shift+Enter) will list all files under the input directory\n",
    "\n",
    "import os\n",
    "for dirname, _, filenames in os.walk('/kaggle/input'):\n",
    "    for filename in filenames:\n",
    "        print(os.path.join(dirname, filename))\n",
    "\n",
    "# You can write up to 20GB to the current directory (/kaggle/working/) that gets preserved as output when you create a version using \"Save & Run All\" \n",
    "# You can also write temporary files to /kaggle/temp/, but they won't be saved outside of the current session"
   ]
  },
  {
   "cell_type": "code",
   "execution_count": 2,
   "id": "4324f413",
   "metadata": {
    "execution": {
     "iopub.execute_input": "2023-09-26T14:41:03.976132Z",
     "iopub.status.busy": "2023-09-26T14:41:03.975647Z",
     "iopub.status.idle": "2023-09-26T14:41:05.570237Z",
     "shell.execute_reply": "2023-09-26T14:41:05.568779Z"
    },
    "papermill": {
     "duration": 1.611493,
     "end_time": "2023-09-26T14:41:05.573580",
     "exception": false,
     "start_time": "2023-09-26T14:41:03.962087",
     "status": "completed"
    },
    "tags": []
   },
   "outputs": [
    {
     "name": "stderr",
     "output_type": "stream",
     "text": [
      "/opt/conda/lib/python3.10/site-packages/scipy/__init__.py:146: UserWarning: A NumPy version >=1.16.5 and <1.23.0 is required for this version of SciPy (detected version 1.23.5\n",
      "  warnings.warn(f\"A NumPy version >={np_minversion} and <{np_maxversion}\"\n"
     ]
    }
   ],
   "source": [
    "# Data visualisation imports\n",
    "import matplotlib.pyplot as plt\n",
    "import seaborn as sns"
   ]
  },
  {
   "cell_type": "markdown",
   "id": "ac283374",
   "metadata": {
    "papermill": {
     "duration": 0.010759,
     "end_time": "2023-09-26T14:41:05.595842",
     "exception": false,
     "start_time": "2023-09-26T14:41:05.585083",
     "status": "completed"
    },
    "tags": []
   },
   "source": [
    "# About Dataset\n",
    "### Data Science Job Salaries Dataset contains 11 columns, each are:\n",
    "\n",
    "* work_year: The year the salary was paid.\n",
    "* experience_level: The experience level in the job during the year with the following possible values: EN Entry-level / Junior MI Mid-level / Intermediate SE Senior-level / Expert EX Executive-level / Director\n",
    "* employment_type: The type of employement for the role: PT Part-time FT Full-time CT Contract FL Freelance\n",
    "* job_title: The role worked in during the year.\n",
    "* salary: The total gross salary amount paid.\n",
    "* salary_currency: The currency of the salary paid as an ISO 4217 currency code.\n",
    "* salaryinusd: The salary in USD\n",
    "* employee_residence: Employee's primary country of residence in during the work year as an ISO 3166 country code.\n",
    "* remote_ratio: The overall amount of work done remotely, possible values are as follows: 0 No remote work (less than 20%) 50 Partially remote 100 Fully remote (more than 80%)\n",
    "* company_location: The country of the employer's main office or contracting branch\n",
    "* company_size: The average number of people that worked for the company during the year: S less than 50 employees (small) M 50 to 250 employees (medium) L more than 250 employees (large)"
   ]
  },
  {
   "cell_type": "code",
   "execution_count": 3,
   "id": "f4c070d1",
   "metadata": {
    "execution": {
     "iopub.execute_input": "2023-09-26T14:41:05.621422Z",
     "iopub.status.busy": "2023-09-26T14:41:05.620973Z",
     "iopub.status.idle": "2023-09-26T14:41:05.678973Z",
     "shell.execute_reply": "2023-09-26T14:41:05.678078Z"
    },
    "papermill": {
     "duration": 0.074073,
     "end_time": "2023-09-26T14:41:05.681576",
     "exception": false,
     "start_time": "2023-09-26T14:41:05.607503",
     "status": "completed"
    },
    "tags": []
   },
   "outputs": [
    {
     "data": {
      "text/html": [
       "<div>\n",
       "<style scoped>\n",
       "    .dataframe tbody tr th:only-of-type {\n",
       "        vertical-align: middle;\n",
       "    }\n",
       "\n",
       "    .dataframe tbody tr th {\n",
       "        vertical-align: top;\n",
       "    }\n",
       "\n",
       "    .dataframe thead th {\n",
       "        text-align: right;\n",
       "    }\n",
       "</style>\n",
       "<table border=\"1\" class=\"dataframe\">\n",
       "  <thead>\n",
       "    <tr style=\"text-align: right;\">\n",
       "      <th></th>\n",
       "      <th>work_year</th>\n",
       "      <th>experience_level</th>\n",
       "      <th>employment_type</th>\n",
       "      <th>job_title</th>\n",
       "      <th>salary</th>\n",
       "      <th>salary_currency</th>\n",
       "      <th>salary_in_usd</th>\n",
       "      <th>employee_residence</th>\n",
       "      <th>remote_ratio</th>\n",
       "      <th>company_location</th>\n",
       "      <th>company_size</th>\n",
       "    </tr>\n",
       "  </thead>\n",
       "  <tbody>\n",
       "    <tr>\n",
       "      <th>0</th>\n",
       "      <td>2023</td>\n",
       "      <td>SE</td>\n",
       "      <td>FT</td>\n",
       "      <td>Principal Data Scientist</td>\n",
       "      <td>80000</td>\n",
       "      <td>EUR</td>\n",
       "      <td>85847</td>\n",
       "      <td>ES</td>\n",
       "      <td>100</td>\n",
       "      <td>ES</td>\n",
       "      <td>L</td>\n",
       "    </tr>\n",
       "    <tr>\n",
       "      <th>1</th>\n",
       "      <td>2023</td>\n",
       "      <td>MI</td>\n",
       "      <td>CT</td>\n",
       "      <td>ML Engineer</td>\n",
       "      <td>30000</td>\n",
       "      <td>USD</td>\n",
       "      <td>30000</td>\n",
       "      <td>US</td>\n",
       "      <td>100</td>\n",
       "      <td>US</td>\n",
       "      <td>S</td>\n",
       "    </tr>\n",
       "    <tr>\n",
       "      <th>2</th>\n",
       "      <td>2023</td>\n",
       "      <td>MI</td>\n",
       "      <td>CT</td>\n",
       "      <td>ML Engineer</td>\n",
       "      <td>25500</td>\n",
       "      <td>USD</td>\n",
       "      <td>25500</td>\n",
       "      <td>US</td>\n",
       "      <td>100</td>\n",
       "      <td>US</td>\n",
       "      <td>S</td>\n",
       "    </tr>\n",
       "    <tr>\n",
       "      <th>3</th>\n",
       "      <td>2023</td>\n",
       "      <td>SE</td>\n",
       "      <td>FT</td>\n",
       "      <td>Data Scientist</td>\n",
       "      <td>175000</td>\n",
       "      <td>USD</td>\n",
       "      <td>175000</td>\n",
       "      <td>CA</td>\n",
       "      <td>100</td>\n",
       "      <td>CA</td>\n",
       "      <td>M</td>\n",
       "    </tr>\n",
       "    <tr>\n",
       "      <th>4</th>\n",
       "      <td>2023</td>\n",
       "      <td>SE</td>\n",
       "      <td>FT</td>\n",
       "      <td>Data Scientist</td>\n",
       "      <td>120000</td>\n",
       "      <td>USD</td>\n",
       "      <td>120000</td>\n",
       "      <td>CA</td>\n",
       "      <td>100</td>\n",
       "      <td>CA</td>\n",
       "      <td>M</td>\n",
       "    </tr>\n",
       "  </tbody>\n",
       "</table>\n",
       "</div>"
      ],
      "text/plain": [
       "   work_year experience_level employment_type                 job_title  \\\n",
       "0       2023               SE              FT  Principal Data Scientist   \n",
       "1       2023               MI              CT               ML Engineer   \n",
       "2       2023               MI              CT               ML Engineer   \n",
       "3       2023               SE              FT            Data Scientist   \n",
       "4       2023               SE              FT            Data Scientist   \n",
       "\n",
       "   salary salary_currency  salary_in_usd employee_residence  remote_ratio  \\\n",
       "0   80000             EUR          85847                 ES           100   \n",
       "1   30000             USD          30000                 US           100   \n",
       "2   25500             USD          25500                 US           100   \n",
       "3  175000             USD         175000                 CA           100   \n",
       "4  120000             USD         120000                 CA           100   \n",
       "\n",
       "  company_location company_size  \n",
       "0               ES            L  \n",
       "1               US            S  \n",
       "2               US            S  \n",
       "3               CA            M  \n",
       "4               CA            M  "
      ]
     },
     "execution_count": 3,
     "metadata": {},
     "output_type": "execute_result"
    }
   ],
   "source": [
    "# Import data and display top 5 rows\n",
    "address= '/kaggle/input/data-science-salaries-2023/ds_salaries.csv'\n",
    "df = pd.read_csv(address)\n",
    "df.head()"
   ]
  },
  {
   "cell_type": "code",
   "execution_count": 4,
   "id": "7374f228",
   "metadata": {
    "execution": {
     "iopub.execute_input": "2023-09-26T14:41:05.708124Z",
     "iopub.status.busy": "2023-09-26T14:41:05.707276Z",
     "iopub.status.idle": "2023-09-26T14:41:05.728118Z",
     "shell.execute_reply": "2023-09-26T14:41:05.726819Z"
    },
    "papermill": {
     "duration": 0.036634,
     "end_time": "2023-09-26T14:41:05.731184",
     "exception": false,
     "start_time": "2023-09-26T14:41:05.694550",
     "status": "completed"
    },
    "tags": []
   },
   "outputs": [
    {
     "data": {
      "text/plain": [
       "work_year             0\n",
       "experience_level      0\n",
       "employment_type       0\n",
       "job_title             0\n",
       "salary                0\n",
       "salary_currency       0\n",
       "salary_in_usd         0\n",
       "employee_residence    0\n",
       "remote_ratio          0\n",
       "company_location      0\n",
       "company_size          0\n",
       "dtype: int64"
      ]
     },
     "execution_count": 4,
     "metadata": {},
     "output_type": "execute_result"
    }
   ],
   "source": [
    "# Check for null values\n",
    "df.isnull().sum()"
   ]
  },
  {
   "cell_type": "code",
   "execution_count": 5,
   "id": "fcfeded8",
   "metadata": {
    "execution": {
     "iopub.execute_input": "2023-09-26T14:41:05.755516Z",
     "iopub.status.busy": "2023-09-26T14:41:05.755082Z",
     "iopub.status.idle": "2023-09-26T14:41:05.776187Z",
     "shell.execute_reply": "2023-09-26T14:41:05.774835Z"
    },
    "papermill": {
     "duration": 0.036379,
     "end_time": "2023-09-26T14:41:05.778870",
     "exception": false,
     "start_time": "2023-09-26T14:41:05.742491",
     "status": "completed"
    },
    "tags": []
   },
   "outputs": [
    {
     "data": {
      "text/plain": [
       "work_year                4\n",
       "experience_level         4\n",
       "employment_type          4\n",
       "job_title               93\n",
       "salary                 815\n",
       "salary_currency         20\n",
       "salary_in_usd         1035\n",
       "employee_residence      78\n",
       "remote_ratio             3\n",
       "company_location        72\n",
       "company_size             3\n",
       "dtype: int64"
      ]
     },
     "execution_count": 5,
     "metadata": {},
     "output_type": "execute_result"
    }
   ],
   "source": [
    "# Investigate number of unique values by column (cardinality)\n",
    "columns = df.columns\n",
    "n_unique = [df[col].nunique() for col in columns]\n",
    "pd.Series(n_unique, index=columns)"
   ]
  },
  {
   "cell_type": "code",
   "execution_count": 6,
   "id": "e2860c5d",
   "metadata": {
    "execution": {
     "iopub.execute_input": "2023-09-26T14:41:05.804797Z",
     "iopub.status.busy": "2023-09-26T14:41:05.804346Z",
     "iopub.status.idle": "2023-09-26T14:41:05.813148Z",
     "shell.execute_reply": "2023-09-26T14:41:05.811896Z"
    },
    "papermill": {
     "duration": 0.025056,
     "end_time": "2023-09-26T14:41:05.815958",
     "exception": false,
     "start_time": "2023-09-26T14:41:05.790902",
     "status": "completed"
    },
    "tags": []
   },
   "outputs": [
    {
     "name": "stdout",
     "output_type": "stream",
     "text": [
      "2020 data entries: 76\n",
      "2021 data entries: 230\n",
      "2022 data entries: 1664\n",
      "2023 data entries: 1785\n"
     ]
    }
   ],
   "source": [
    "# How is the data split across work years?\n",
    "print(f\"2020 data entries: {(df['work_year']==2020).sum()}\")\n",
    "print(f\"2021 data entries: {(df['work_year']==2021).sum()}\")\n",
    "print(f\"2022 data entries: {(df['work_year']==2022).sum()}\")\n",
    "print(f\"2023 data entries: {(df['work_year']==2023).sum()}\")"
   ]
  },
  {
   "cell_type": "markdown",
   "id": "a6e7917d",
   "metadata": {
    "papermill": {
     "duration": 0.011643,
     "end_time": "2023-09-26T14:41:05.839227",
     "exception": false,
     "start_time": "2023-09-26T14:41:05.827584",
     "status": "completed"
    },
    "tags": []
   },
   "source": [
    "* As most of the data is based in 2022 and 2023. Any trends over time may be inaccurate that include 2020 and 2021 due to insufficient data."
   ]
  },
  {
   "cell_type": "markdown",
   "id": "12a65c82",
   "metadata": {
    "papermill": {
     "duration": 0.012076,
     "end_time": "2023-09-26T14:41:05.863520",
     "exception": false,
     "start_time": "2023-09-26T14:41:05.851444",
     "status": "completed"
    },
    "tags": []
   },
   "source": [
    "## Mean USD salary analysis based on factors such as:\n",
    "* Job title\n",
    "* Work year\n",
    "* Company size\n",
    "* Employee experience level\n",
    "* Employee residence\n",
    "* Employment type\n",
    "* Remote working ratio"
   ]
  },
  {
   "cell_type": "code",
   "execution_count": 7,
   "id": "6ef5da78",
   "metadata": {
    "execution": {
     "iopub.execute_input": "2023-09-26T14:41:05.890689Z",
     "iopub.status.busy": "2023-09-26T14:41:05.890205Z",
     "iopub.status.idle": "2023-09-26T14:41:05.910658Z",
     "shell.execute_reply": "2023-09-26T14:41:05.909663Z"
    },
    "papermill": {
     "duration": 0.037566,
     "end_time": "2023-09-26T14:41:05.913168",
     "exception": false,
     "start_time": "2023-09-26T14:41:05.875602",
     "status": "completed"
    },
    "tags": []
   },
   "outputs": [
    {
     "data": {
      "text/plain": [
       "job_title\n",
       "Data Science Tech Lead                375000.000000\n",
       "Cloud Data Architect                  250000.000000\n",
       "Data Lead                             212500.000000\n",
       "Data Analytics Lead                   211254.500000\n",
       "Principal Data Scientist              198171.125000\n",
       "Director of Data Science              195140.727273\n",
       "Principal Data Engineer               192500.000000\n",
       "Machine Learning Software Engineer    192420.000000\n",
       "Data Science Manager                  191278.775862\n",
       "Applied Scientist                     190264.482759\n",
       "Name: salary_in_usd, dtype: float64"
      ]
     },
     "execution_count": 7,
     "metadata": {},
     "output_type": "execute_result"
    }
   ],
   "source": [
    "# Which job titles receive the highest mean USD salaries?\n",
    "df.groupby('job_title')['salary_in_usd'].mean().sort_values(ascending=False)[0:10]"
   ]
  },
  {
   "cell_type": "code",
   "execution_count": 8,
   "id": "dd2b5f71",
   "metadata": {
    "execution": {
     "iopub.execute_input": "2023-09-26T14:41:05.941107Z",
     "iopub.status.busy": "2023-09-26T14:41:05.940645Z",
     "iopub.status.idle": "2023-09-26T14:41:06.441164Z",
     "shell.execute_reply": "2023-09-26T14:41:06.439803Z"
    },
    "papermill": {
     "duration": 0.519453,
     "end_time": "2023-09-26T14:41:06.444707",
     "exception": false,
     "start_time": "2023-09-26T14:41:05.925254",
     "status": "completed"
    },
    "tags": []
   },
   "outputs": [
    {
     "data": {
      "text/plain": [
       "(array([     0.,  50000., 100000., 150000., 200000., 250000., 300000.,\n",
       "        350000., 400000.]),\n",
       " [Text(0.0, 0, '0'),\n",
       "  Text(50000.0, 0, '50000'),\n",
       "  Text(100000.0, 0, '100000'),\n",
       "  Text(150000.0, 0, '150000'),\n",
       "  Text(200000.0, 0, '200000'),\n",
       "  Text(250000.0, 0, '250000'),\n",
       "  Text(300000.0, 0, '300000'),\n",
       "  Text(350000.0, 0, '350000'),\n",
       "  Text(400000.0, 0, '400000')])"
      ]
     },
     "execution_count": 8,
     "metadata": {},
     "output_type": "execute_result"
    },
    {
     "data": {
      "image/png": "[encoded data removed]",
      "text/plain": [
       "<Figure size 640x480 with 1 Axes>"
      ]
     },
     "metadata": {},
     "output_type": "display_data"
    }
   ],
   "source": [
    "# Plot of highest mean USD salary by job title\n",
    "df.groupby('job_title')['salary_in_usd'].mean().sort_values(ascending=False)[0:10].plot(kind='barh')\n",
    "plt.title('Highest Mean Salary by Job Title')\n",
    "plt.xlabel('Salary (USD)')\n",
    "plt.xticks(rotation=30)"
   ]
  },
  {
   "cell_type": "code",
   "execution_count": 9,
   "id": "08bd49d8",
   "metadata": {
    "execution": {
     "iopub.execute_input": "2023-09-26T14:41:06.474811Z",
     "iopub.status.busy": "2023-09-26T14:41:06.474101Z",
     "iopub.status.idle": "2023-09-26T14:41:06.495706Z",
     "shell.execute_reply": "2023-09-26T14:41:06.494537Z"
    },
    "papermill": {
     "duration": 0.039829,
     "end_time": "2023-09-26T14:41:06.498430",
     "exception": false,
     "start_time": "2023-09-26T14:41:06.458601",
     "status": "completed"
    },
    "tags": []
   },
   "outputs": [
    {
     "data": {
      "text/html": [
       "<div>\n",
       "<style scoped>\n",
       "    .dataframe tbody tr th:only-of-type {\n",
       "        vertical-align: middle;\n",
       "    }\n",
       "\n",
       "    .dataframe tbody tr th {\n",
       "        vertical-align: top;\n",
       "    }\n",
       "\n",
       "    .dataframe thead th {\n",
       "        text-align: right;\n",
       "    }\n",
       "</style>\n",
       "<table border=\"1\" class=\"dataframe\">\n",
       "  <thead>\n",
       "    <tr style=\"text-align: right;\">\n",
       "      <th></th>\n",
       "      <th>work_year</th>\n",
       "      <th>experience_level</th>\n",
       "      <th>employment_type</th>\n",
       "      <th>job_title</th>\n",
       "      <th>salary</th>\n",
       "      <th>salary_currency</th>\n",
       "      <th>salary_in_usd</th>\n",
       "      <th>employee_residence</th>\n",
       "      <th>remote_ratio</th>\n",
       "      <th>company_location</th>\n",
       "      <th>company_size</th>\n",
       "    </tr>\n",
       "  </thead>\n",
       "  <tbody>\n",
       "    <tr>\n",
       "      <th>2359</th>\n",
       "      <td>2022</td>\n",
       "      <td>SE</td>\n",
       "      <td>FT</td>\n",
       "      <td>Data Science Tech Lead</td>\n",
       "      <td>375000</td>\n",
       "      <td>USD</td>\n",
       "      <td>375000</td>\n",
       "      <td>US</td>\n",
       "      <td>50</td>\n",
       "      <td>US</td>\n",
       "      <td>L</td>\n",
       "    </tr>\n",
       "    <tr>\n",
       "      <th>3063</th>\n",
       "      <td>2021</td>\n",
       "      <td>SE</td>\n",
       "      <td>FT</td>\n",
       "      <td>Cloud Data Architect</td>\n",
       "      <td>250000</td>\n",
       "      <td>USD</td>\n",
       "      <td>250000</td>\n",
       "      <td>US</td>\n",
       "      <td>50</td>\n",
       "      <td>US</td>\n",
       "      <td>L</td>\n",
       "    </tr>\n",
       "  </tbody>\n",
       "</table>\n",
       "</div>"
      ],
      "text/plain": [
       "      work_year experience_level employment_type               job_title  \\\n",
       "2359       2022               SE              FT  Data Science Tech Lead   \n",
       "3063       2021               SE              FT    Cloud Data Architect   \n",
       "\n",
       "      salary salary_currency  salary_in_usd employee_residence  remote_ratio  \\\n",
       "2359  375000             USD         375000                 US            50   \n",
       "3063  250000             USD         250000                 US            50   \n",
       "\n",
       "     company_location company_size  \n",
       "2359               US            L  \n",
       "3063               US            L  "
      ]
     },
     "execution_count": 9,
     "metadata": {},
     "output_type": "execute_result"
    }
   ],
   "source": [
    "# How many employees hold the top two paid positions?\n",
    "highest_paid_jobs = ['Cloud Data Architect', 'Data Science Tech Lead']\n",
    "df[df['job_title'].isin(highest_paid_jobs)]"
   ]
  },
  {
   "cell_type": "markdown",
   "id": "3c4862a6",
   "metadata": {
    "papermill": {
     "duration": 0.012631,
     "end_time": "2023-09-26T14:41:06.524360",
     "exception": false,
     "start_time": "2023-09-26T14:41:06.511729",
     "status": "completed"
    },
    "tags": []
   },
   "source": [
    "* Most of the top 10 data industry jobs have a mean salary of around USD200K\n",
    "* Cloud Architect and Data Science Tech Lead pay the highest salaries of USD250K and USD375K respectively. There is only one entry for each of these job titles so these could be **outliers**. More data on these job_titles would be required to improve the mean salary reliability."
   ]
  },
  {
   "cell_type": "code",
   "execution_count": 10,
   "id": "f1dd29c5",
   "metadata": {
    "execution": {
     "iopub.execute_input": "2023-09-26T14:41:06.553604Z",
     "iopub.status.busy": "2023-09-26T14:41:06.552754Z",
     "iopub.status.idle": "2023-09-26T14:41:06.562970Z",
     "shell.execute_reply": "2023-09-26T14:41:06.561912Z"
    },
    "papermill": {
     "duration": 0.027683,
     "end_time": "2023-09-26T14:41:06.565623",
     "exception": false,
     "start_time": "2023-09-26T14:41:06.537940",
     "status": "completed"
    },
    "tags": []
   },
   "outputs": [
    {
     "data": {
      "text/plain": [
       "work_year\n",
       "2020     92302.631579\n",
       "2021     94087.208696\n",
       "2022    133338.620793\n",
       "2023    149045.541176\n",
       "Name: salary_in_usd, dtype: float64"
      ]
     },
     "execution_count": 10,
     "metadata": {},
     "output_type": "execute_result"
    }
   ],
   "source": [
    "# How has mean USD salary changed over from 2020 to 2023?\n",
    "df.groupby('work_year')['salary_in_usd'].mean()"
   ]
  },
  {
   "cell_type": "code",
   "execution_count": 11,
   "id": "e1b4d922",
   "metadata": {
    "execution": {
     "iopub.execute_input": "2023-09-26T14:41:06.595708Z",
     "iopub.status.busy": "2023-09-26T14:41:06.595023Z",
     "iopub.status.idle": "2023-09-26T14:41:07.053979Z",
     "shell.execute_reply": "2023-09-26T14:41:07.052675Z"
    },
    "papermill": {
     "duration": 0.47706,
     "end_time": "2023-09-26T14:41:07.056501",
     "exception": false,
     "start_time": "2023-09-26T14:41:06.579441",
     "status": "completed"
    },
    "tags": []
   },
   "outputs": [
    {
     "data": {
      "text/plain": [
       "Text(0, 0.5, 'Mean Salary (USD)')"
      ]
     },
     "execution_count": 11,
     "metadata": {},
     "output_type": "execute_result"
    },
    {
     "data": {
      "image/png": "[encoded data removed]",
      "text/plain": [
       "<Figure size 640x480 with 1 Axes>"
      ]
     },
     "metadata": {},
     "output_type": "display_data"
    }
   ],
   "source": [
    "# Line plot of data industry salaries from 2020-2023\n",
    "sns.set_style(style='darkgrid')\n",
    "sns.lineplot(df.groupby('work_year')['salary_in_usd'].mean())\n",
    "plt.title('Data Career Salary Trend 2020-2023')\n",
    "plt.xticks(ticks=[2020,2021,2022,2023])\n",
    "plt.xlabel('Work Year')\n",
    "plt.ylabel('Mean Salary (USD)')"
   ]
  },
  {
   "cell_type": "markdown",
   "id": "99438ad7",
   "metadata": {
    "papermill": {
     "duration": 0.014438,
     "end_time": "2023-09-26T14:41:07.085800",
     "exception": false,
     "start_time": "2023-09-26T14:41:07.071362",
     "status": "completed"
    },
    "tags": []
   },
   "source": [
    "* Clear positive trend representing salary growth from 2020 - 2023\n",
    "* Biggest jump in mean salary is from 2021 (USD 94,087), to 2022 (USD 133,338), representing an 41.7% increase.\n",
    "* Due to lack of data in 2020 and 2021, the most notable increase is from 2022 to 2023, where we have sufficient data to evidence an increase.\n",
    "* Only 4 years of data are used. Trend accuracy could be further validated if data was available for more work years."
   ]
  },
  {
   "cell_type": "code",
   "execution_count": 12,
   "id": "b8726005",
   "metadata": {
    "execution": {
     "iopub.execute_input": "2023-09-26T14:41:07.116383Z",
     "iopub.status.busy": "2023-09-26T14:41:07.115900Z",
     "iopub.status.idle": "2023-09-26T14:41:07.127586Z",
     "shell.execute_reply": "2023-09-26T14:41:07.125778Z"
    },
    "papermill": {
     "duration": 0.029792,
     "end_time": "2023-09-26T14:41:07.130276",
     "exception": false,
     "start_time": "2023-09-26T14:41:07.100484",
     "status": "completed"
    },
    "tags": []
   },
   "outputs": [
    {
     "data": {
      "text/plain": [
       "company_size\n",
       "L    118300.982379\n",
       "M    143130.548367\n",
       "S     78226.682432\n",
       "Name: salary_in_usd, dtype: float64"
      ]
     },
     "execution_count": 12,
     "metadata": {},
     "output_type": "execute_result"
    }
   ],
   "source": [
    "# Which company size pays the highest salary?\n",
    "df.groupby('company_size')['salary_in_usd'].mean()"
   ]
  },
  {
   "cell_type": "code",
   "execution_count": 13,
   "id": "c0056aa8",
   "metadata": {
    "execution": {
     "iopub.execute_input": "2023-09-26T14:41:07.162752Z",
     "iopub.status.busy": "2023-09-26T14:41:07.161664Z",
     "iopub.status.idle": "2023-09-26T14:41:07.549896Z",
     "shell.execute_reply": "2023-09-26T14:41:07.548380Z"
    },
    "papermill": {
     "duration": 0.40843,
     "end_time": "2023-09-26T14:41:07.552960",
     "exception": false,
     "start_time": "2023-09-26T14:41:07.144530",
     "status": "completed"
    },
    "tags": []
   },
   "outputs": [
    {
     "data": {
      "text/plain": [
       "Text(0, 0.5, 'Mean Salary (USD)')"
      ]
     },
     "execution_count": 13,
     "metadata": {},
     "output_type": "execute_result"
    },
    {
     "data": {
      "image/png": "[encoded data removed]",
      "text/plain": [
       "<Figure size 640x480 with 1 Axes>"
      ]
     },
     "metadata": {},
     "output_type": "display_data"
    }
   ],
   "source": [
    "# Plot of mean salary (USD) by company size\n",
    "df.groupby('company_size')['salary_in_usd'].mean().plot(kind='bar')\n",
    "plt.xticks(rotation=0)\n",
    "plt.title('Mean Salary (USD) by Company Size')\n",
    "plt.ylabel('Mean Salary (USD)')"
   ]
  },
  {
   "cell_type": "code",
   "execution_count": 14,
   "id": "7feaba0f",
   "metadata": {
    "execution": {
     "iopub.execute_input": "2023-09-26T14:41:07.584896Z",
     "iopub.status.busy": "2023-09-26T14:41:07.584459Z",
     "iopub.status.idle": "2023-09-26T14:41:07.595374Z",
     "shell.execute_reply": "2023-09-26T14:41:07.594076Z"
    },
    "papermill": {
     "duration": 0.02983,
     "end_time": "2023-09-26T14:41:07.598022",
     "exception": false,
     "start_time": "2023-09-26T14:41:07.568192",
     "status": "completed"
    },
    "tags": []
   },
   "outputs": [
    {
     "data": {
      "text/plain": [
       "M    3153\n",
       "L     454\n",
       "S     148\n",
       "Name: company_size, dtype: int64"
      ]
     },
     "execution_count": 14,
     "metadata": {},
     "output_type": "execute_result"
    }
   ],
   "source": [
    "df['company_size'].value_counts()"
   ]
  },
  {
   "cell_type": "code",
   "execution_count": 15,
   "id": "619fefaf",
   "metadata": {
    "execution": {
     "iopub.execute_input": "2023-09-26T14:41:07.629765Z",
     "iopub.status.busy": "2023-09-26T14:41:07.629356Z",
     "iopub.status.idle": "2023-09-26T14:41:07.826113Z",
     "shell.execute_reply": "2023-09-26T14:41:07.822899Z"
    },
    "papermill": {
     "duration": 0.218581,
     "end_time": "2023-09-26T14:41:07.831661",
     "exception": false,
     "start_time": "2023-09-26T14:41:07.613080",
     "status": "completed"
    },
    "tags": []
   },
   "outputs": [
    {
     "data": {
      "text/plain": [
       "([<matplotlib.patches.Wedge at 0x7c0cdea26d10>,\n",
       "  <matplotlib.patches.Wedge at 0x7c0cde9aace0>,\n",
       "  <matplotlib.patches.Wedge at 0x7c0cdea25c90>],\n",
       " [Text(-0.5251036315600717, 0.2902863691640109, 'M'),\n",
       "  Text(0.48511421780981473, -0.35307817219246446, 'L'),\n",
       "  Text(0.5953817012314708, -0.07430094103522246, 'S')],\n",
       " [Text(-1.0939658990834826, 0.6047632690916894, '83.9%'),\n",
       "  Text(1.010654620437114, -0.7355795254009677, '12.1%'),\n",
       "  Text(1.2403785442322308, -0.15479362715671346, '4.0%')])"
      ]
     },
     "execution_count": 15,
     "metadata": {},
     "output_type": "execute_result"
    },
    {
     "data": {
      "image/png": "[encoded data removed]",
      "text/plain": [
       "<Figure size 640x480 with 1 Axes>"
      ]
     },
     "metadata": {},
     "output_type": "display_data"
    }
   ],
   "source": [
    "# Pie chart comparision of different company sizes.\n",
    "labels = ['M', 'L', 'S']\n",
    "sizes = [3143, 454, 148]\n",
    "\n",
    "fig, ax = plt.subplots()\n",
    "ax.pie(sizes, labels=labels, autopct='%1.1f%%', pctdistance=1.25, labeldistance=.6)"
   ]
  },
  {
   "cell_type": "markdown",
   "id": "2f5b1949",
   "metadata": {
    "papermill": {
     "duration": 0.022225,
     "end_time": "2023-09-26T14:41:07.888379",
     "exception": false,
     "start_time": "2023-09-26T14:41:07.866154",
     "status": "completed"
    },
    "tags": []
   },
   "source": [
    "* Most employees work in medium size firms with between 50 and 250 employees.\n",
    "* These medium size firms pay the highest mean salary, followed by large firms (250+ employees), and finally small firms (-50 employees).\n",
    "* Limited available data for small and large size companies may mean the mean salary is not as accurate as it is for medium size firms."
   ]
  },
  {
   "cell_type": "markdown",
   "id": "46e5747a",
   "metadata": {
    "papermill": {
     "duration": 0.015763,
     "end_time": "2023-09-26T14:41:07.920048",
     "exception": false,
     "start_time": "2023-09-26T14:41:07.904285",
     "status": "completed"
    },
    "tags": []
   },
   "source": [
    "### Experience level\n",
    "* EN = Entry-level / Junior \n",
    "* MI = Mid-level / Intermediate \n",
    "* SE Senior-level / Expert \n",
    "* EX Executive-level / Director"
   ]
  },
  {
   "cell_type": "code",
   "execution_count": 16,
   "id": "e68d95a8",
   "metadata": {
    "execution": {
     "iopub.execute_input": "2023-09-26T14:41:07.952705Z",
     "iopub.status.busy": "2023-09-26T14:41:07.952253Z",
     "iopub.status.idle": "2023-09-26T14:41:08.375014Z",
     "shell.execute_reply": "2023-09-26T14:41:08.373315Z"
    },
    "papermill": {
     "duration": 0.442458,
     "end_time": "2023-09-26T14:41:08.377935",
     "exception": false,
     "start_time": "2023-09-26T14:41:07.935477",
     "status": "completed"
    },
    "tags": []
   },
   "outputs": [
    {
     "data": {
      "text/plain": [
       "Text(0.5, 0, 'Experience Level')"
      ]
     },
     "execution_count": 16,
     "metadata": {},
     "output_type": "execute_result"
    },
    {
     "data": {
      "image/png": "[encoded data removed]",
      "text/plain": [
       "<Figure size 640x480 with 1 Axes>"
      ]
     },
     "metadata": {},
     "output_type": "display_data"
    }
   ],
   "source": [
    "# How does salary vary by experience level?\n",
    "df.groupby('experience_level')['salary_in_usd'].mean().sort_values().plot(kind='bar')\n",
    "plt.xticks(rotation=0)\n",
    "plt.title('Mean Salary (USD) by Experience Level')\n",
    "plt.ylabel('Mean Salary (USD)')\n",
    "plt.xlabel('Experience Level')"
   ]
  },
  {
   "cell_type": "markdown",
   "id": "175835e6",
   "metadata": {
    "papermill": {
     "duration": 0.015901,
     "end_time": "2023-09-26T14:41:08.410605",
     "exception": false,
     "start_time": "2023-09-26T14:41:08.394704",
     "status": "completed"
    },
    "tags": []
   },
   "source": [
    "* Unsuprisingly, the more senior an employee, the higher their salary."
   ]
  },
  {
   "cell_type": "code",
   "execution_count": 17,
   "id": "03f6d1cb",
   "metadata": {
    "execution": {
     "iopub.execute_input": "2023-09-26T14:41:08.445035Z",
     "iopub.status.busy": "2023-09-26T14:41:08.444574Z",
     "iopub.status.idle": "2023-09-26T14:41:08.950940Z",
     "shell.execute_reply": "2023-09-26T14:41:08.949610Z"
    },
    "papermill": {
     "duration": 0.526956,
     "end_time": "2023-09-26T14:41:08.953733",
     "exception": false,
     "start_time": "2023-09-26T14:41:08.426777",
     "status": "completed"
    },
    "tags": []
   },
   "outputs": [
    {
     "data": {
      "text/plain": [
       "Text(0.5, 0, 'Employee Residence')"
      ]
     },
     "execution_count": 17,
     "metadata": {},
     "output_type": "execute_result"
    },
    {
     "data": {
      "image/png": "[encoded data removed]",
      "text/plain": [
       "<Figure size 640x480 with 1 Axes>"
      ]
     },
     "metadata": {},
     "output_type": "display_data"
    }
   ],
   "source": [
    "# How does mean salary vary by the top 10 most common employee residence locations?\n",
    "top10_er = list(df.employee_residence.value_counts()[0:10].index)\n",
    "\n",
    "df[df['employee_residence'].isin(top10_er)].groupby('employee_residence')['salary_in_usd'].mean().sort_values(ascending=False).plot(kind='bar')\n",
    "plt.xticks(rotation=0)\n",
    "plt.title('Mean Salary (USD) by Employee Residence')\n",
    "plt.ylabel('Mean Salary (USD)')\n",
    "plt.xlabel('Employee Residence')"
   ]
  },
  {
   "cell_type": "code",
   "execution_count": 18,
   "id": "0d8ddaed",
   "metadata": {
    "execution": {
     "iopub.execute_input": "2023-09-26T14:41:08.992405Z",
     "iopub.status.busy": "2023-09-26T14:41:08.991922Z",
     "iopub.status.idle": "2023-09-26T14:41:09.004519Z",
     "shell.execute_reply": "2023-09-26T14:41:09.003661Z"
    },
    "papermill": {
     "duration": 0.034837,
     "end_time": "2023-09-26T14:41:09.007149",
     "exception": false,
     "start_time": "2023-09-26T14:41:08.972312",
     "status": "completed"
    },
    "tags": []
   },
   "outputs": [
    {
     "data": {
      "text/plain": [
       "employee_residence\n",
       "US    152822.011651\n",
       "CA    132222.905882\n",
       "DE     94772.250000\n",
       "GB     86988.323353\n",
       "FR     61492.500000\n",
       "ES     60463.350000\n",
       "GR     55136.062500\n",
       "PT     53059.000000\n",
       "BR     48927.111111\n",
       "IN     36218.450704\n",
       "Name: salary_in_usd, dtype: float64"
      ]
     },
     "execution_count": 18,
     "metadata": {},
     "output_type": "execute_result"
    }
   ],
   "source": [
    "df[df['employee_residence'].isin(top10_er)].groupby('employee_residence')['salary_in_usd'].mean().sort_values(ascending=False)"
   ]
  },
  {
   "cell_type": "code",
   "execution_count": 19,
   "id": "08d70f9d",
   "metadata": {
    "execution": {
     "iopub.execute_input": "2023-09-26T14:41:09.044217Z",
     "iopub.status.busy": "2023-09-26T14:41:09.043775Z",
     "iopub.status.idle": "2023-09-26T14:41:09.054459Z",
     "shell.execute_reply": "2023-09-26T14:41:09.053079Z"
    },
    "papermill": {
     "duration": 0.031764,
     "end_time": "2023-09-26T14:41:09.056840",
     "exception": false,
     "start_time": "2023-09-26T14:41:09.025076",
     "status": "completed"
    },
    "tags": []
   },
   "outputs": [
    {
     "data": {
      "text/plain": [
       "US    3040\n",
       "GB     172\n",
       "CA      87\n",
       "ES      77\n",
       "IN      58\n",
       "DE      56\n",
       "FR      34\n",
       "BR      15\n",
       "AU      14\n",
       "GR      14\n",
       "Name: company_location, dtype: int64"
      ]
     },
     "execution_count": 19,
     "metadata": {},
     "output_type": "execute_result"
    }
   ],
   "source": [
    "# How frequently do different company locations occur?\n",
    "df.company_location.value_counts()[0:10]"
   ]
  },
  {
   "cell_type": "markdown",
   "id": "58b7baed",
   "metadata": {
    "papermill": {
     "duration": 0.018357,
     "end_time": "2023-09-26T14:41:09.092701",
     "exception": false,
     "start_time": "2023-09-26T14:41:09.074344",
     "status": "completed"
    },
    "tags": []
   },
   "source": [
    "* Almost all recorded companies are based in the US.\n",
    "* Mean salary is largely depending on geographic location.\n",
    "* North American based employees receive the highest mean salary, followed by European countries, followed by the rest of the world.\n",
    "* US based employees receive a mean salary of USD152k, compared to Germany (The highest paid European employees) at USD94772K. This is a substantial difference of around 60%."
   ]
  },
  {
   "cell_type": "code",
   "execution_count": 20,
   "id": "773ce7c4",
   "metadata": {
    "execution": {
     "iopub.execute_input": "2023-09-26T14:41:09.129617Z",
     "iopub.status.busy": "2023-09-26T14:41:09.128849Z",
     "iopub.status.idle": "2023-09-26T14:41:09.140482Z",
     "shell.execute_reply": "2023-09-26T14:41:09.138746Z"
    },
    "papermill": {
     "duration": 0.03299,
     "end_time": "2023-09-26T14:41:09.143038",
     "exception": false,
     "start_time": "2023-09-26T14:41:09.110048",
     "status": "completed"
    },
    "tags": []
   },
   "outputs": [
    {
     "data": {
      "text/plain": [
       "employment_type\n",
       "PT     39533.705882\n",
       "FL     51807.800000\n",
       "CT    113446.900000\n",
       "FT    138314.199570\n",
       "Name: salary_in_usd, dtype: float64"
      ]
     },
     "execution_count": 20,
     "metadata": {},
     "output_type": "execute_result"
    }
   ],
   "source": [
    "# How does salary vary by employment type?\n",
    "df.groupby('employment_type')['salary_in_usd'].mean().sort_values()"
   ]
  },
  {
   "cell_type": "code",
   "execution_count": 21,
   "id": "3890ec78",
   "metadata": {
    "execution": {
     "iopub.execute_input": "2023-09-26T14:41:09.182510Z",
     "iopub.status.busy": "2023-09-26T14:41:09.181590Z",
     "iopub.status.idle": "2023-09-26T14:41:09.192583Z",
     "shell.execute_reply": "2023-09-26T14:41:09.191347Z"
    },
    "papermill": {
     "duration": 0.033691,
     "end_time": "2023-09-26T14:41:09.195310",
     "exception": false,
     "start_time": "2023-09-26T14:41:09.161619",
     "status": "completed"
    },
    "tags": []
   },
   "outputs": [
    {
     "data": {
      "text/plain": [
       "FT    3718\n",
       "PT      17\n",
       "CT      10\n",
       "FL      10\n",
       "Name: employment_type, dtype: int64"
      ]
     },
     "execution_count": 21,
     "metadata": {},
     "output_type": "execute_result"
    }
   ],
   "source": [
    "df['employment_type'].value_counts()"
   ]
  },
  {
   "cell_type": "markdown",
   "id": "2f008c3c",
   "metadata": {
    "papermill": {
     "duration": 0.017468,
     "end_time": "2023-09-26T14:41:09.230548",
     "exception": false,
     "start_time": "2023-09-26T14:41:09.213080",
     "status": "completed"
    },
    "tags": []
   },
   "source": [
    "As almost all of the data relates to full time employment. There is insufficient data to accurately compare salaries across varying employment types."
   ]
  },
  {
   "cell_type": "code",
   "execution_count": 22,
   "id": "9b412d4a",
   "metadata": {
    "execution": {
     "iopub.execute_input": "2023-09-26T14:41:09.267646Z",
     "iopub.status.busy": "2023-09-26T14:41:09.267261Z",
     "iopub.status.idle": "2023-09-26T14:41:09.278555Z",
     "shell.execute_reply": "2023-09-26T14:41:09.277307Z"
    },
    "papermill": {
     "duration": 0.033085,
     "end_time": "2023-09-26T14:41:09.281267",
     "exception": false,
     "start_time": "2023-09-26T14:41:09.248182",
     "status": "completed"
    },
    "tags": []
   },
   "outputs": [
    {
     "data": {
      "text/plain": [
       "remote_ratio\n",
       "50      78400.687831\n",
       "100    136481.452830\n",
       "0      144316.202288\n",
       "Name: salary_in_usd, dtype: float64"
      ]
     },
     "execution_count": 22,
     "metadata": {},
     "output_type": "execute_result"
    }
   ],
   "source": [
    "# How does salary vary by remote working ratio?\n",
    "df.groupby('remote_ratio')['salary_in_usd'].mean().sort_values()"
   ]
  },
  {
   "cell_type": "code",
   "execution_count": 23,
   "id": "0ff618d3",
   "metadata": {
    "execution": {
     "iopub.execute_input": "2023-09-26T14:41:09.319217Z",
     "iopub.status.busy": "2023-09-26T14:41:09.318809Z",
     "iopub.status.idle": "2023-09-26T14:41:09.716380Z",
     "shell.execute_reply": "2023-09-26T14:41:09.715141Z"
    },
    "papermill": {
     "duration": 0.419904,
     "end_time": "2023-09-26T14:41:09.719157",
     "exception": false,
     "start_time": "2023-09-26T14:41:09.299253",
     "status": "completed"
    },
    "tags": []
   },
   "outputs": [
    {
     "data": {
      "text/plain": [
       "(array([0, 1, 2]), [Text(0, 0, '50'), Text(1, 0, '100'), Text(2, 0, '0')])"
      ]
     },
     "execution_count": 23,
     "metadata": {},
     "output_type": "execute_result"
    },
    {
     "data": {
      "image/png": "[encoded data removed]",
      "text/plain": [
       "<Figure size 640x480 with 1 Axes>"
      ]
     },
     "metadata": {},
     "output_type": "display_data"
    }
   ],
   "source": [
    "df.groupby('remote_ratio')['salary_in_usd'].mean().sort_values().plot(kind='bar')\n",
    "plt.title('Salary by Remote Working Ratio')\n",
    "plt.xlabel('Remote Working Ratio')\n",
    "plt.ylabel('Mean Salary (USD)')\n",
    "plt.xticks(rotation=0)"
   ]
  },
  {
   "cell_type": "code",
   "execution_count": 24,
   "id": "4d39d08a",
   "metadata": {
    "execution": {
     "iopub.execute_input": "2023-09-26T14:41:09.758951Z",
     "iopub.status.busy": "2023-09-26T14:41:09.758553Z",
     "iopub.status.idle": "2023-09-26T14:41:09.768112Z",
     "shell.execute_reply": "2023-09-26T14:41:09.766752Z"
    },
    "papermill": {
     "duration": 0.032528,
     "end_time": "2023-09-26T14:41:09.770836",
     "exception": false,
     "start_time": "2023-09-26T14:41:09.738308",
     "status": "completed"
    },
    "tags": []
   },
   "outputs": [
    {
     "data": {
      "text/plain": [
       "0      1923\n",
       "100    1643\n",
       "50      189\n",
       "Name: remote_ratio, dtype: int64"
      ]
     },
     "execution_count": 24,
     "metadata": {},
     "output_type": "execute_result"
    }
   ],
   "source": [
    "df['remote_ratio'].value_counts()"
   ]
  },
  {
   "cell_type": "markdown",
   "id": "9d976894",
   "metadata": {
    "papermill": {
     "duration": 0.019846,
     "end_time": "2023-09-26T14:41:09.810470",
     "exception": false,
     "start_time": "2023-09-26T14:41:09.790624",
     "status": "completed"
    },
    "tags": []
   },
   "source": [
    "* Most entries are 0, which means less than 20% of their work is remote. Second most popular is remote workers (80% or more)\n",
    "* Only 189 workers work between 20% and 80% remote.\n",
    "* Full time office workers earn on average USD8K more than remote workers.\n",
    "* Hybrid workers (20%-80% remote) have the lowest mean salary of around USD80K but the data in this category is limited."
   ]
  }
 ],
 "metadata": {
  "kernelspec": {
   "display_name": "Python 3 (ipykernel)",
   "language": "python",
   "name": "python3"
  },
  "language_info": {
   "codemirror_mode": {
    "name": "ipython",
    "version": 3
   },
   "file_extension": ".py",
   "mimetype": "text/x-python",
   "name": "python",
   "nbconvert_exporter": "python",
   "pygments_lexer": "ipython3",
   "version": "3.11.7"
  },
  "papermill": {
   "default_parameters": {},
   "duration": 20.28303,
   "end_time": "2023-09-26T14:41:11.057106",
   "environment_variables": {},
   "exception": null,
   "input_path": "__notebook__.ipynb",
   "output_path": "__notebook__.ipynb",
   "parameters": {},
   "start_time": "2023-09-26T14:40:50.774076",
   "version": "2.4.0"
  }
 },
 "nbformat": 4,
 "nbformat_minor": 5
}
